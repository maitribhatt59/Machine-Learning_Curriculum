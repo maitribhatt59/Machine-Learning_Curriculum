{
  "cells": [
    {
      "cell_type": "code",
      "execution_count": null,
      "metadata": {
        "id": "p9QIg_e-LBwo"
      },
      "outputs": [],
      "source": [
        "# Import libraries and set desired options\n",
        "import pickle\n",
        "from pathlib import Path\n",
        "\n",
        "import numpy as np\n",
        "import pandas as pd\n",
        "import seaborn as sns\n",
        "from matplotlib import pyplot as plt\n",
        "from scipy.sparse import csr_matrix, hstack\n",
        "from sklearn.linear_model import LogisticRegression\n",
        "from sklearn.metrics import roc_auc_score\n",
        "from sklearn.preprocessing import StandardScaler\n",
        "\n",
        "sns.set()\n",
        "%config InlineBackend.figure_format = 'retina'"
      ]
    },
    {
      "cell_type": "markdown",
      "metadata": {
        "id": "YTIF91ORJ_Ru"
      },
      "source": [
        "\n",
        "\n",
        "---\n",
        "\n",
        "\n",
        "\n",
        "---\n",
        "\n",
        "\n",
        "\n",
        "\n",
        "Today we will reproduce a couple of baselines in \"Intruder Detection through Webpage Session Tracking\"(a.k.a. \"Alice\") and discuss ideas for further improvement. You'll sense the spirit of realistic datasets: brainstorming model or validation scheme improvements, adding new features, implementing new ideas in code, climbing the leaderboard – that's exciting! And that's very useful as well, especially when you're only starting your ML journey. In this assignment, we'll also work with sparse matrices (which is often the only way to work with some types of data, from the computation perspective), train Logistic Regression models, and practice feature engineering.\n",
        "\n",
        "We have discussed in class the competition with various different methods.\n",
        "\n",
        "In this homework, we will work through to beat these baseline. At the end, you need to come up with good features to beat leadboard!"
      ]
    },
    {
      "cell_type": "markdown",
      "metadata": {
        "id": "kOLafLBkLHiH"
      },
      "source": [
        "**Problem description**\n",
        "\n",
        "In this competition, we'll analyze the sequence of websites consequently visited by a particular person and try to predict whether this person is Alice or someone else. As a metric we will use [ROC AUC](https://en.wikipedia.org/wiki/Receiver_operating_characteristic)."
      ]
    },
    {
      "cell_type": "markdown",
      "metadata": {
        "id": "5RmKFGCC2riN"
      },
      "source": [
        "### Data Download\n",
        "First, read the training and test sets. Then we'll explore the data in hand and do a couple of simple exercises.\n",
        "\n",
        "\n",
        "**Data access:** the data is stored in https://drive.google.com/file/d/1WvBuXCOMho1ZAWcJLi4X-a1l-ZReG-5K/view?usp=sharing.\n",
        "\n",
        "**Load Data:** Once you open the link in the brower, make sure you click the \"Add shortcut to Drive\" and now your google drive should show up the zip file.  Then you run the following code to link colab to your google drive.\n",
        "\n",
        "### Data Description\n",
        "The training data set contains the following features:\n",
        "\n",
        "- **site1** – id of the first visited website in the session\n",
        "- **time1** – visiting time for the first website in the session\n",
        "- ...\n",
        "- **site10** – id of the tenth visited website in the session\n",
        "- **time10** – visiting time for the tenth website in the session\n",
        "- **target** – target variable, 1 for Alice's sessions, and 0 for the other users' sessions\n",
        "    \n",
        "User sessions are chosen in the way that they are shorter than 30 min. long and contain no more than 10 websites. I.e. a session is considered over either if a user has visited 10 websites or if a session has lasted over 30 minutes.\n",
        "\n",
        "There are some empty values in the table, it means that some sessions contain less than ten websites. Replace empty values with 0 and change columns types to integer. Also load the websites dictionary and check how it looks like:\n"
      ]
    },
    {
      "cell_type": "code",
      "execution_count": null,
      "metadata": {
        "colab": {
          "base_uri": "https://localhost:8080/"
        },
        "id": "E0RWuF0w2-iS",
        "outputId": "7fed6652-cbf9-4511-9747-2e2b534517db"
      },
      "outputs": [
        {
          "name": "stdout",
          "output_type": "stream",
          "text": [
            "Drive already mounted at /content/drive; to attempt to forcibly remount, call drive.mount(\"/content/drive\", force_remount=True).\n"
          ]
        }
      ],
      "source": [
        "from google.colab import drive\n",
        "drive.mount('/content/drive')\n",
        "import os\n",
        "os.chdir(\"/content/drive/My Drive/intern\")"
      ]
    },
    {
      "cell_type": "code",
      "execution_count": null,
      "metadata": {
        "colab": {
          "base_uri": "https://localhost:8080/"
        },
        "id": "6qjRuhy33Bog",
        "outputId": "55caad2c-b60c-4d9e-b728-630259559c3b"
      },
      "outputs": [
        {
          "name": "stdout",
          "output_type": "stream",
          "text": [
            "Archive:  catch-me-if-you-can-intruder-detection-through-webpage-session-tracking2.zip\n",
            "replace sample_submission.csv? [y]es, [n]o, [A]ll, [N]one, [r]ename: "
          ]
        }
      ],
      "source": [
        "!unzip catch-me-if-you-can-intruder-detection-through-webpage-session-tracking2.zip"
      ]
    },
    {
      "cell_type": "code",
      "execution_count": null,
      "metadata": {
        "colab": {
          "base_uri": "https://localhost:8080/",
          "height": 262
        },
        "id": "VYaX96_Q3Ftc",
        "outputId": "ee133102-7e31-4038-d59d-5bf5467e8f93"
      },
      "outputs": [
        {
          "data": {
            "application/vnd.google.colaboratory.intrinsic+json": {
              "type": "dataframe",
              "variable_name": "train_df"
            },
            "text/html": [
              "\n",
              "  <div id=\"df-3153b0f2-410d-4011-b83c-a2123b420589\" class=\"colab-df-container\">\n",
              "    <div>\n",
              "<style scoped>\n",
              "    .dataframe tbody tr th:only-of-type {\n",
              "        vertical-align: middle;\n",
              "    }\n",
              "\n",
              "    .dataframe tbody tr th {\n",
              "        vertical-align: top;\n",
              "    }\n",
              "\n",
              "    .dataframe thead th {\n",
              "        text-align: right;\n",
              "    }\n",
              "</style>\n",
              "<table border=\"1\" class=\"dataframe\">\n",
              "  <thead>\n",
              "    <tr style=\"text-align: right;\">\n",
              "      <th></th>\n",
              "      <th>site1</th>\n",
              "      <th>time1</th>\n",
              "      <th>site2</th>\n",
              "      <th>time2</th>\n",
              "      <th>site3</th>\n",
              "      <th>time3</th>\n",
              "      <th>site4</th>\n",
              "      <th>time4</th>\n",
              "      <th>site5</th>\n",
              "      <th>time5</th>\n",
              "      <th>...</th>\n",
              "      <th>time6</th>\n",
              "      <th>site7</th>\n",
              "      <th>time7</th>\n",
              "      <th>site8</th>\n",
              "      <th>time8</th>\n",
              "      <th>site9</th>\n",
              "      <th>time9</th>\n",
              "      <th>site10</th>\n",
              "      <th>time10</th>\n",
              "      <th>target</th>\n",
              "    </tr>\n",
              "    <tr>\n",
              "      <th>session_id</th>\n",
              "      <th></th>\n",
              "      <th></th>\n",
              "      <th></th>\n",
              "      <th></th>\n",
              "      <th></th>\n",
              "      <th></th>\n",
              "      <th></th>\n",
              "      <th></th>\n",
              "      <th></th>\n",
              "      <th></th>\n",
              "      <th></th>\n",
              "      <th></th>\n",
              "      <th></th>\n",
              "      <th></th>\n",
              "      <th></th>\n",
              "      <th></th>\n",
              "      <th></th>\n",
              "      <th></th>\n",
              "      <th></th>\n",
              "      <th></th>\n",
              "      <th></th>\n",
              "    </tr>\n",
              "  </thead>\n",
              "  <tbody>\n",
              "    <tr>\n",
              "      <th>21669</th>\n",
              "      <td>56</td>\n",
              "      <td>2013-01-12 08:05:57</td>\n",
              "      <td>55.0</td>\n",
              "      <td>2013-01-12 08:05:57</td>\n",
              "      <td>NaN</td>\n",
              "      <td>NaT</td>\n",
              "      <td>NaN</td>\n",
              "      <td>NaT</td>\n",
              "      <td>NaN</td>\n",
              "      <td>NaT</td>\n",
              "      <td>...</td>\n",
              "      <td>NaT</td>\n",
              "      <td>NaN</td>\n",
              "      <td>NaT</td>\n",
              "      <td>NaN</td>\n",
              "      <td>NaT</td>\n",
              "      <td>NaN</td>\n",
              "      <td>NaT</td>\n",
              "      <td>NaN</td>\n",
              "      <td>NaT</td>\n",
              "      <td>0</td>\n",
              "    </tr>\n",
              "    <tr>\n",
              "      <th>54843</th>\n",
              "      <td>56</td>\n",
              "      <td>2013-01-12 08:37:23</td>\n",
              "      <td>55.0</td>\n",
              "      <td>2013-01-12 08:37:23</td>\n",
              "      <td>56.0</td>\n",
              "      <td>2013-01-12 09:07:07</td>\n",
              "      <td>55.0</td>\n",
              "      <td>2013-01-12 09:07:09</td>\n",
              "      <td>NaN</td>\n",
              "      <td>NaT</td>\n",
              "      <td>...</td>\n",
              "      <td>NaT</td>\n",
              "      <td>NaN</td>\n",
              "      <td>NaT</td>\n",
              "      <td>NaN</td>\n",
              "      <td>NaT</td>\n",
              "      <td>NaN</td>\n",
              "      <td>NaT</td>\n",
              "      <td>NaN</td>\n",
              "      <td>NaT</td>\n",
              "      <td>0</td>\n",
              "    </tr>\n",
              "  </tbody>\n",
              "</table>\n",
              "<p>2 rows × 21 columns</p>\n",
              "</div>\n",
              "    <div class=\"colab-df-buttons\">\n",
              "\n",
              "  <div class=\"colab-df-container\">\n",
              "    <button class=\"colab-df-convert\" onclick=\"convertToInteractive('df-3153b0f2-410d-4011-b83c-a2123b420589')\"\n",
              "            title=\"Convert this dataframe to an interactive table.\"\n",
              "            style=\"display:none;\">\n",
              "\n",
              "  <svg xmlns=\"http://www.w3.org/2000/svg\" height=\"24px\" viewBox=\"0 -960 960 960\">\n",
              "    <path d=\"M120-120v-720h720v720H120Zm60-500h600v-160H180v160Zm220 220h160v-160H400v160Zm0 220h160v-160H400v160ZM180-400h160v-160H180v160Zm440 0h160v-160H620v160ZM180-180h160v-160H180v160Zm440 0h160v-160H620v160Z\"/>\n",
              "  </svg>\n",
              "    </button>\n",
              "\n",
              "  <style>\n",
              "    .colab-df-container {\n",
              "      display:flex;\n",
              "      gap: 12px;\n",
              "    }\n",
              "\n",
              "    .colab-df-convert {\n",
              "      background-color: #E8F0FE;\n",
              "      border: none;\n",
              "      border-radius: 50%;\n",
              "      cursor: pointer;\n",
              "      display: none;\n",
              "      fill: #1967D2;\n",
              "      height: 32px;\n",
              "      padding: 0 0 0 0;\n",
              "      width: 32px;\n",
              "    }\n",
              "\n",
              "    .colab-df-convert:hover {\n",
              "      background-color: #E2EBFA;\n",
              "      box-shadow: 0px 1px 2px rgba(60, 64, 67, 0.3), 0px 1px 3px 1px rgba(60, 64, 67, 0.15);\n",
              "      fill: #174EA6;\n",
              "    }\n",
              "\n",
              "    .colab-df-buttons div {\n",
              "      margin-bottom: 4px;\n",
              "    }\n",
              "\n",
              "    [theme=dark] .colab-df-convert {\n",
              "      background-color: #3B4455;\n",
              "      fill: #D2E3FC;\n",
              "    }\n",
              "\n",
              "    [theme=dark] .colab-df-convert:hover {\n",
              "      background-color: #434B5C;\n",
              "      box-shadow: 0px 1px 3px 1px rgba(0, 0, 0, 0.15);\n",
              "      filter: drop-shadow(0px 1px 2px rgba(0, 0, 0, 0.3));\n",
              "      fill: #FFFFFF;\n",
              "    }\n",
              "  </style>\n",
              "\n",
              "    <script>\n",
              "      const buttonEl =\n",
              "        document.querySelector('#df-3153b0f2-410d-4011-b83c-a2123b420589 button.colab-df-convert');\n",
              "      buttonEl.style.display =\n",
              "        google.colab.kernel.accessAllowed ? 'block' : 'none';\n",
              "\n",
              "      async function convertToInteractive(key) {\n",
              "        const element = document.querySelector('#df-3153b0f2-410d-4011-b83c-a2123b420589');\n",
              "        const dataTable =\n",
              "          await google.colab.kernel.invokeFunction('convertToInteractive',\n",
              "                                                    [key], {});\n",
              "        if (!dataTable) return;\n",
              "\n",
              "        const docLinkHtml = 'Like what you see? Visit the ' +\n",
              "          '<a target=\"_blank\" href=https://colab.research.google.com/notebooks/data_table.ipynb>data table notebook</a>'\n",
              "          + ' to learn more about interactive tables.';\n",
              "        element.innerHTML = '';\n",
              "        dataTable['output_type'] = 'display_data';\n",
              "        await google.colab.output.renderOutput(dataTable, element);\n",
              "        const docLink = document.createElement('div');\n",
              "        docLink.innerHTML = docLinkHtml;\n",
              "        element.appendChild(docLink);\n",
              "      }\n",
              "    </script>\n",
              "  </div>\n",
              "\n",
              "\n",
              "<div id=\"df-857c8ce1-8f4f-46b4-ad6c-36fc6bcf76a0\">\n",
              "  <button class=\"colab-df-quickchart\" onclick=\"quickchart('df-857c8ce1-8f4f-46b4-ad6c-36fc6bcf76a0')\"\n",
              "            title=\"Suggest charts\"\n",
              "            style=\"display:none;\">\n",
              "\n",
              "<svg xmlns=\"http://www.w3.org/2000/svg\" height=\"24px\"viewBox=\"0 0 24 24\"\n",
              "     width=\"24px\">\n",
              "    <g>\n",
              "        <path d=\"M19 3H5c-1.1 0-2 .9-2 2v14c0 1.1.9 2 2 2h14c1.1 0 2-.9 2-2V5c0-1.1-.9-2-2-2zM9 17H7v-7h2v7zm4 0h-2V7h2v10zm4 0h-2v-4h2v4z\"/>\n",
              "    </g>\n",
              "</svg>\n",
              "  </button>\n",
              "\n",
              "<style>\n",
              "  .colab-df-quickchart {\n",
              "      --bg-color: #E8F0FE;\n",
              "      --fill-color: #1967D2;\n",
              "      --hover-bg-color: #E2EBFA;\n",
              "      --hover-fill-color: #174EA6;\n",
              "      --disabled-fill-color: #AAA;\n",
              "      --disabled-bg-color: #DDD;\n",
              "  }\n",
              "\n",
              "  [theme=dark] .colab-df-quickchart {\n",
              "      --bg-color: #3B4455;\n",
              "      --fill-color: #D2E3FC;\n",
              "      --hover-bg-color: #434B5C;\n",
              "      --hover-fill-color: #FFFFFF;\n",
              "      --disabled-bg-color: #3B4455;\n",
              "      --disabled-fill-color: #666;\n",
              "  }\n",
              "\n",
              "  .colab-df-quickchart {\n",
              "    background-color: var(--bg-color);\n",
              "    border: none;\n",
              "    border-radius: 50%;\n",
              "    cursor: pointer;\n",
              "    display: none;\n",
              "    fill: var(--fill-color);\n",
              "    height: 32px;\n",
              "    padding: 0;\n",
              "    width: 32px;\n",
              "  }\n",
              "\n",
              "  .colab-df-quickchart:hover {\n",
              "    background-color: var(--hover-bg-color);\n",
              "    box-shadow: 0 1px 2px rgba(60, 64, 67, 0.3), 0 1px 3px 1px rgba(60, 64, 67, 0.15);\n",
              "    fill: var(--button-hover-fill-color);\n",
              "  }\n",
              "\n",
              "  .colab-df-quickchart-complete:disabled,\n",
              "  .colab-df-quickchart-complete:disabled:hover {\n",
              "    background-color: var(--disabled-bg-color);\n",
              "    fill: var(--disabled-fill-color);\n",
              "    box-shadow: none;\n",
              "  }\n",
              "\n",
              "  .colab-df-spinner {\n",
              "    border: 2px solid var(--fill-color);\n",
              "    border-color: transparent;\n",
              "    border-bottom-color: var(--fill-color);\n",
              "    animation:\n",
              "      spin 1s steps(1) infinite;\n",
              "  }\n",
              "\n",
              "  @keyframes spin {\n",
              "    0% {\n",
              "      border-color: transparent;\n",
              "      border-bottom-color: var(--fill-color);\n",
              "      border-left-color: var(--fill-color);\n",
              "    }\n",
              "    20% {\n",
              "      border-color: transparent;\n",
              "      border-left-color: var(--fill-color);\n",
              "      border-top-color: var(--fill-color);\n",
              "    }\n",
              "    30% {\n",
              "      border-color: transparent;\n",
              "      border-left-color: var(--fill-color);\n",
              "      border-top-color: var(--fill-color);\n",
              "      border-right-color: var(--fill-color);\n",
              "    }\n",
              "    40% {\n",
              "      border-color: transparent;\n",
              "      border-right-color: var(--fill-color);\n",
              "      border-top-color: var(--fill-color);\n",
              "    }\n",
              "    60% {\n",
              "      border-color: transparent;\n",
              "      border-right-color: var(--fill-color);\n",
              "    }\n",
              "    80% {\n",
              "      border-color: transparent;\n",
              "      border-right-color: var(--fill-color);\n",
              "      border-bottom-color: var(--fill-color);\n",
              "    }\n",
              "    90% {\n",
              "      border-color: transparent;\n",
              "      border-bottom-color: var(--fill-color);\n",
              "    }\n",
              "  }\n",
              "</style>\n",
              "\n",
              "  <script>\n",
              "    async function quickchart(key) {\n",
              "      const quickchartButtonEl =\n",
              "        document.querySelector('#' + key + ' button');\n",
              "      quickchartButtonEl.disabled = true;  // To prevent multiple clicks.\n",
              "      quickchartButtonEl.classList.add('colab-df-spinner');\n",
              "      try {\n",
              "        const charts = await google.colab.kernel.invokeFunction(\n",
              "            'suggestCharts', [key], {});\n",
              "      } catch (error) {\n",
              "        console.error('Error during call to suggestCharts:', error);\n",
              "      }\n",
              "      quickchartButtonEl.classList.remove('colab-df-spinner');\n",
              "      quickchartButtonEl.classList.add('colab-df-quickchart-complete');\n",
              "    }\n",
              "    (() => {\n",
              "      let quickchartButtonEl =\n",
              "        document.querySelector('#df-857c8ce1-8f4f-46b4-ad6c-36fc6bcf76a0 button');\n",
              "      quickchartButtonEl.style.display =\n",
              "        google.colab.kernel.accessAllowed ? 'block' : 'none';\n",
              "    })();\n",
              "  </script>\n",
              "</div>\n",
              "\n",
              "    </div>\n",
              "  </div>\n"
            ],
            "text/plain": [
              "            site1               time1  site2               time2  site3  \\\n",
              "session_id                                                                \n",
              "21669          56 2013-01-12 08:05:57   55.0 2013-01-12 08:05:57    NaN   \n",
              "54843          56 2013-01-12 08:37:23   55.0 2013-01-12 08:37:23   56.0   \n",
              "\n",
              "                         time3  site4               time4  site5 time5  ...  \\\n",
              "session_id                                                              ...   \n",
              "21669                      NaT    NaN                 NaT    NaN   NaT  ...   \n",
              "54843      2013-01-12 09:07:07   55.0 2013-01-12 09:07:09    NaN   NaT  ...   \n",
              "\n",
              "            time6 site7  time7 site8  time8 site9  time9 site10  time10 target  \n",
              "session_id                                                                      \n",
              "21669         NaT   NaN    NaT   NaN    NaT   NaN    NaT    NaN     NaT      0  \n",
              "54843         NaT   NaN    NaT   NaN    NaT   NaN    NaT    NaN     NaT      0  \n",
              "\n",
              "[2 rows x 21 columns]"
            ]
          },
          "execution_count": 42,
          "metadata": {},
          "output_type": "execute_result"
        }
      ],
      "source": [
        "times = [\"time%s\" % i for i in range(1, 11)]\n",
        "# customize the paths if needed\n",
        "train_df = pd.read_csv(\"train_sessions.csv\", index_col=\"session_id\", parse_dates=times)\n",
        "test_df = pd.read_csv(\"test_sessions.csv\", index_col=\"session_id\", parse_dates=times)\n",
        "\n",
        "# Sort the data by time\n",
        "train_df = train_df.sort_values(by=\"time1\")\n",
        "\n",
        "# Look at the first rows of the training set\n",
        "train_df.head(2)"
      ]
    },
    {
      "cell_type": "code",
      "execution_count": null,
      "metadata": {
        "colab": {
          "base_uri": "https://localhost:8080/",
          "height": 223
        },
        "id": "tgx-Rugz3roz",
        "outputId": "22d0ef79-8211-41dc-fdd7-07002edb4cce"
      },
      "outputs": [
        {
          "name": "stdout",
          "output_type": "stream",
          "text": [
            "Websites total: 48371\n"
          ]
        },
        {
          "data": {
            "application/vnd.google.colaboratory.intrinsic+json": {
              "summary": "{\n  \"name\": \"sites_dict\",\n  \"rows\": 48371,\n  \"fields\": [\n    {\n      \"column\": \"site\",\n      \"properties\": {\n        \"dtype\": \"string\",\n        \"num_unique_values\": 48371,\n        \"samples\": [\n          \"www.davigel.fr\",\n          \"www.d8.tv\",\n          \"i1-js-14-3-01-10036-181618219-i.init.cedexis-radar.net\"\n        ],\n        \"semantic_type\": \"\",\n        \"description\": \"\"\n      }\n    }\n  ]\n}",
              "type": "dataframe",
              "variable_name": "sites_dict"
            },
            "text/html": [
              "\n",
              "  <div id=\"df-b21f8180-e8c4-4ef8-9b7f-32c4ec2ac7a7\" class=\"colab-df-container\">\n",
              "    <div>\n",
              "<style scoped>\n",
              "    .dataframe tbody tr th:only-of-type {\n",
              "        vertical-align: middle;\n",
              "    }\n",
              "\n",
              "    .dataframe tbody tr th {\n",
              "        vertical-align: top;\n",
              "    }\n",
              "\n",
              "    .dataframe thead th {\n",
              "        text-align: right;\n",
              "    }\n",
              "</style>\n",
              "<table border=\"1\" class=\"dataframe\">\n",
              "  <thead>\n",
              "    <tr style=\"text-align: right;\">\n",
              "      <th></th>\n",
              "      <th>site</th>\n",
              "    </tr>\n",
              "  </thead>\n",
              "  <tbody>\n",
              "    <tr>\n",
              "      <th>25075</th>\n",
              "      <td>www.abmecatronique.com</td>\n",
              "    </tr>\n",
              "    <tr>\n",
              "      <th>13997</th>\n",
              "      <td>groups.live.com</td>\n",
              "    </tr>\n",
              "    <tr>\n",
              "      <th>42436</th>\n",
              "      <td>majeureliguefootball.wordpress.com</td>\n",
              "    </tr>\n",
              "    <tr>\n",
              "      <th>30911</th>\n",
              "      <td>cdt46.media.tourinsoft.eu</td>\n",
              "    </tr>\n",
              "    <tr>\n",
              "      <th>8104</th>\n",
              "      <td>www.hdwallpapers.eu</td>\n",
              "    </tr>\n",
              "  </tbody>\n",
              "</table>\n",
              "</div>\n",
              "    <div class=\"colab-df-buttons\">\n",
              "\n",
              "  <div class=\"colab-df-container\">\n",
              "    <button class=\"colab-df-convert\" onclick=\"convertToInteractive('df-b21f8180-e8c4-4ef8-9b7f-32c4ec2ac7a7')\"\n",
              "            title=\"Convert this dataframe to an interactive table.\"\n",
              "            style=\"display:none;\">\n",
              "\n",
              "  <svg xmlns=\"http://www.w3.org/2000/svg\" height=\"24px\" viewBox=\"0 -960 960 960\">\n",
              "    <path d=\"M120-120v-720h720v720H120Zm60-500h600v-160H180v160Zm220 220h160v-160H400v160Zm0 220h160v-160H400v160ZM180-400h160v-160H180v160Zm440 0h160v-160H620v160ZM180-180h160v-160H180v160Zm440 0h160v-160H620v160Z\"/>\n",
              "  </svg>\n",
              "    </button>\n",
              "\n",
              "  <style>\n",
              "    .colab-df-container {\n",
              "      display:flex;\n",
              "      gap: 12px;\n",
              "    }\n",
              "\n",
              "    .colab-df-convert {\n",
              "      background-color: #E8F0FE;\n",
              "      border: none;\n",
              "      border-radius: 50%;\n",
              "      cursor: pointer;\n",
              "      display: none;\n",
              "      fill: #1967D2;\n",
              "      height: 32px;\n",
              "      padding: 0 0 0 0;\n",
              "      width: 32px;\n",
              "    }\n",
              "\n",
              "    .colab-df-convert:hover {\n",
              "      background-color: #E2EBFA;\n",
              "      box-shadow: 0px 1px 2px rgba(60, 64, 67, 0.3), 0px 1px 3px 1px rgba(60, 64, 67, 0.15);\n",
              "      fill: #174EA6;\n",
              "    }\n",
              "\n",
              "    .colab-df-buttons div {\n",
              "      margin-bottom: 4px;\n",
              "    }\n",
              "\n",
              "    [theme=dark] .colab-df-convert {\n",
              "      background-color: #3B4455;\n",
              "      fill: #D2E3FC;\n",
              "    }\n",
              "\n",
              "    [theme=dark] .colab-df-convert:hover {\n",
              "      background-color: #434B5C;\n",
              "      box-shadow: 0px 1px 3px 1px rgba(0, 0, 0, 0.15);\n",
              "      filter: drop-shadow(0px 1px 2px rgba(0, 0, 0, 0.3));\n",
              "      fill: #FFFFFF;\n",
              "    }\n",
              "  </style>\n",
              "\n",
              "    <script>\n",
              "      const buttonEl =\n",
              "        document.querySelector('#df-b21f8180-e8c4-4ef8-9b7f-32c4ec2ac7a7 button.colab-df-convert');\n",
              "      buttonEl.style.display =\n",
              "        google.colab.kernel.accessAllowed ? 'block' : 'none';\n",
              "\n",
              "      async function convertToInteractive(key) {\n",
              "        const element = document.querySelector('#df-b21f8180-e8c4-4ef8-9b7f-32c4ec2ac7a7');\n",
              "        const dataTable =\n",
              "          await google.colab.kernel.invokeFunction('convertToInteractive',\n",
              "                                                    [key], {});\n",
              "        if (!dataTable) return;\n",
              "\n",
              "        const docLinkHtml = 'Like what you see? Visit the ' +\n",
              "          '<a target=\"_blank\" href=https://colab.research.google.com/notebooks/data_table.ipynb>data table notebook</a>'\n",
              "          + ' to learn more about interactive tables.';\n",
              "        element.innerHTML = '';\n",
              "        dataTable['output_type'] = 'display_data';\n",
              "        await google.colab.output.renderOutput(dataTable, element);\n",
              "        const docLink = document.createElement('div');\n",
              "        docLink.innerHTML = docLinkHtml;\n",
              "        element.appendChild(docLink);\n",
              "      }\n",
              "    </script>\n",
              "  </div>\n",
              "\n",
              "\n",
              "<div id=\"df-9486672a-511d-433c-945d-a1863afc9f74\">\n",
              "  <button class=\"colab-df-quickchart\" onclick=\"quickchart('df-9486672a-511d-433c-945d-a1863afc9f74')\"\n",
              "            title=\"Suggest charts\"\n",
              "            style=\"display:none;\">\n",
              "\n",
              "<svg xmlns=\"http://www.w3.org/2000/svg\" height=\"24px\"viewBox=\"0 0 24 24\"\n",
              "     width=\"24px\">\n",
              "    <g>\n",
              "        <path d=\"M19 3H5c-1.1 0-2 .9-2 2v14c0 1.1.9 2 2 2h14c1.1 0 2-.9 2-2V5c0-1.1-.9-2-2-2zM9 17H7v-7h2v7zm4 0h-2V7h2v10zm4 0h-2v-4h2v4z\"/>\n",
              "    </g>\n",
              "</svg>\n",
              "  </button>\n",
              "\n",
              "<style>\n",
              "  .colab-df-quickchart {\n",
              "      --bg-color: #E8F0FE;\n",
              "      --fill-color: #1967D2;\n",
              "      --hover-bg-color: #E2EBFA;\n",
              "      --hover-fill-color: #174EA6;\n",
              "      --disabled-fill-color: #AAA;\n",
              "      --disabled-bg-color: #DDD;\n",
              "  }\n",
              "\n",
              "  [theme=dark] .colab-df-quickchart {\n",
              "      --bg-color: #3B4455;\n",
              "      --fill-color: #D2E3FC;\n",
              "      --hover-bg-color: #434B5C;\n",
              "      --hover-fill-color: #FFFFFF;\n",
              "      --disabled-bg-color: #3B4455;\n",
              "      --disabled-fill-color: #666;\n",
              "  }\n",
              "\n",
              "  .colab-df-quickchart {\n",
              "    background-color: var(--bg-color);\n",
              "    border: none;\n",
              "    border-radius: 50%;\n",
              "    cursor: pointer;\n",
              "    display: none;\n",
              "    fill: var(--fill-color);\n",
              "    height: 32px;\n",
              "    padding: 0;\n",
              "    width: 32px;\n",
              "  }\n",
              "\n",
              "  .colab-df-quickchart:hover {\n",
              "    background-color: var(--hover-bg-color);\n",
              "    box-shadow: 0 1px 2px rgba(60, 64, 67, 0.3), 0 1px 3px 1px rgba(60, 64, 67, 0.15);\n",
              "    fill: var(--button-hover-fill-color);\n",
              "  }\n",
              "\n",
              "  .colab-df-quickchart-complete:disabled,\n",
              "  .colab-df-quickchart-complete:disabled:hover {\n",
              "    background-color: var(--disabled-bg-color);\n",
              "    fill: var(--disabled-fill-color);\n",
              "    box-shadow: none;\n",
              "  }\n",
              "\n",
              "  .colab-df-spinner {\n",
              "    border: 2px solid var(--fill-color);\n",
              "    border-color: transparent;\n",
              "    border-bottom-color: var(--fill-color);\n",
              "    animation:\n",
              "      spin 1s steps(1) infinite;\n",
              "  }\n",
              "\n",
              "  @keyframes spin {\n",
              "    0% {\n",
              "      border-color: transparent;\n",
              "      border-bottom-color: var(--fill-color);\n",
              "      border-left-color: var(--fill-color);\n",
              "    }\n",
              "    20% {\n",
              "      border-color: transparent;\n",
              "      border-left-color: var(--fill-color);\n",
              "      border-top-color: var(--fill-color);\n",
              "    }\n",
              "    30% {\n",
              "      border-color: transparent;\n",
              "      border-left-color: var(--fill-color);\n",
              "      border-top-color: var(--fill-color);\n",
              "      border-right-color: var(--fill-color);\n",
              "    }\n",
              "    40% {\n",
              "      border-color: transparent;\n",
              "      border-right-color: var(--fill-color);\n",
              "      border-top-color: var(--fill-color);\n",
              "    }\n",
              "    60% {\n",
              "      border-color: transparent;\n",
              "      border-right-color: var(--fill-color);\n",
              "    }\n",
              "    80% {\n",
              "      border-color: transparent;\n",
              "      border-right-color: var(--fill-color);\n",
              "      border-bottom-color: var(--fill-color);\n",
              "    }\n",
              "    90% {\n",
              "      border-color: transparent;\n",
              "      border-bottom-color: var(--fill-color);\n",
              "    }\n",
              "  }\n",
              "</style>\n",
              "\n",
              "  <script>\n",
              "    async function quickchart(key) {\n",
              "      const quickchartButtonEl =\n",
              "        document.querySelector('#' + key + ' button');\n",
              "      quickchartButtonEl.disabled = true;  // To prevent multiple clicks.\n",
              "      quickchartButtonEl.classList.add('colab-df-spinner');\n",
              "      try {\n",
              "        const charts = await google.colab.kernel.invokeFunction(\n",
              "            'suggestCharts', [key], {});\n",
              "      } catch (error) {\n",
              "        console.error('Error during call to suggestCharts:', error);\n",
              "      }\n",
              "      quickchartButtonEl.classList.remove('colab-df-spinner');\n",
              "      quickchartButtonEl.classList.add('colab-df-quickchart-complete');\n",
              "    }\n",
              "    (() => {\n",
              "      let quickchartButtonEl =\n",
              "        document.querySelector('#df-9486672a-511d-433c-945d-a1863afc9f74 button');\n",
              "      quickchartButtonEl.style.display =\n",
              "        google.colab.kernel.accessAllowed ? 'block' : 'none';\n",
              "    })();\n",
              "  </script>\n",
              "</div>\n",
              "\n",
              "    </div>\n",
              "  </div>\n"
            ],
            "text/plain": [
              "                                     site\n",
              "25075              www.abmecatronique.com\n",
              "13997                     groups.live.com\n",
              "42436  majeureliguefootball.wordpress.com\n",
              "30911           cdt46.media.tourinsoft.eu\n",
              "8104                  www.hdwallpapers.eu"
            ]
          },
          "execution_count": 43,
          "metadata": {},
          "output_type": "execute_result"
        }
      ],
      "source": [
        "# Change site1, ..., site10 columns type to integer and fill NA-values with zeros\n",
        "sites = [\"site%s\" % i for i in range(1, 11)]\n",
        "train_df[sites] = train_df[sites].fillna(0).astype(np.uint16)\n",
        "test_df[sites] = test_df[sites].fillna(0).astype(np.uint16)\n",
        "\n",
        "# Load websites dictionary\n",
        "with open(\"site_dic.pkl\", \"rb\") as input_file:\n",
        "    site_dict = pickle.load(input_file)\n",
        "\n",
        "# Create dataframe for the dictionary\n",
        "sites_dict = pd.DataFrame(\n",
        "    list(site_dict.keys()), index=list(site_dict.values()), columns=[\"site\"]\n",
        ")\n",
        "print(u\"Websites total:\", sites_dict.shape[0])\n",
        "sites_dict.head()"
      ]
    },
    {
      "cell_type": "markdown",
      "metadata": {
        "id": "BGeMMgif4O3L"
      },
      "source": [
        "\n",
        "Before we start training models, we have to perform Exploratory Data Analysis ([EDA](https://en.wikipedia.org/wiki/Exploratory_data_analysis)). Today, we are going to perform a shorter version, but we will use other techniques as we move forward. Let's check which websites in the training data set are the most visited. As you can see, they are Google services and a bioinformatics website (a website with 'zero'-index is our missed values, just ignore it):"
      ]
    },
    {
      "cell_type": "code",
      "execution_count": null,
      "metadata": {
        "colab": {
          "base_uri": "https://localhost:8080/",
          "height": 279
        },
        "id": "sbmTHwAw4UW_",
        "outputId": "b65e96aa-8ee1-4a99-f929-74f37b79e79f"
      },
      "outputs": [
        {
          "name": "stdout",
          "output_type": "stream",
          "text": [
            "21     123776\n",
            "0      122730\n",
            "23      87619\n",
            "782     77055\n",
            "22      58258\n",
            "dtype: int64\n"
          ]
        },
        {
          "data": {
            "application/vnd.google.colaboratory.intrinsic+json": {
              "summary": "{\n  \"name\": \"sites_dict\",\n  \"rows\": 4,\n  \"fields\": [\n    {\n      \"column\": \"site\",\n      \"properties\": {\n        \"dtype\": \"string\",\n        \"num_unique_values\": 4,\n        \"samples\": [\n          \"www.google.com\",\n          \"apis.google.com\",\n          \"www.google.fr\"\n        ],\n        \"semantic_type\": \"\",\n        \"description\": \"\"\n      }\n    }\n  ]\n}",
              "type": "dataframe"
            },
            "text/html": [
              "\n",
              "  <div id=\"df-cce2fd99-b07d-4d44-a32c-d79c6e93cf6e\" class=\"colab-df-container\">\n",
              "    <div>\n",
              "<style scoped>\n",
              "    .dataframe tbody tr th:only-of-type {\n",
              "        vertical-align: middle;\n",
              "    }\n",
              "\n",
              "    .dataframe tbody tr th {\n",
              "        vertical-align: top;\n",
              "    }\n",
              "\n",
              "    .dataframe thead th {\n",
              "        text-align: right;\n",
              "    }\n",
              "</style>\n",
              "<table border=\"1\" class=\"dataframe\">\n",
              "  <thead>\n",
              "    <tr style=\"text-align: right;\">\n",
              "      <th></th>\n",
              "      <th>site</th>\n",
              "    </tr>\n",
              "  </thead>\n",
              "  <tbody>\n",
              "    <tr>\n",
              "      <th>21</th>\n",
              "      <td>www.google.fr</td>\n",
              "    </tr>\n",
              "    <tr>\n",
              "      <th>23</th>\n",
              "      <td>www.google.com</td>\n",
              "    </tr>\n",
              "    <tr>\n",
              "      <th>782</th>\n",
              "      <td>annotathon.org</td>\n",
              "    </tr>\n",
              "    <tr>\n",
              "      <th>22</th>\n",
              "      <td>apis.google.com</td>\n",
              "    </tr>\n",
              "  </tbody>\n",
              "</table>\n",
              "</div>\n",
              "    <div class=\"colab-df-buttons\">\n",
              "\n",
              "  <div class=\"colab-df-container\">\n",
              "    <button class=\"colab-df-convert\" onclick=\"convertToInteractive('df-cce2fd99-b07d-4d44-a32c-d79c6e93cf6e')\"\n",
              "            title=\"Convert this dataframe to an interactive table.\"\n",
              "            style=\"display:none;\">\n",
              "\n",
              "  <svg xmlns=\"http://www.w3.org/2000/svg\" height=\"24px\" viewBox=\"0 -960 960 960\">\n",
              "    <path d=\"M120-120v-720h720v720H120Zm60-500h600v-160H180v160Zm220 220h160v-160H400v160Zm0 220h160v-160H400v160ZM180-400h160v-160H180v160Zm440 0h160v-160H620v160ZM180-180h160v-160H180v160Zm440 0h160v-160H620v160Z\"/>\n",
              "  </svg>\n",
              "    </button>\n",
              "\n",
              "  <style>\n",
              "    .colab-df-container {\n",
              "      display:flex;\n",
              "      gap: 12px;\n",
              "    }\n",
              "\n",
              "    .colab-df-convert {\n",
              "      background-color: #E8F0FE;\n",
              "      border: none;\n",
              "      border-radius: 50%;\n",
              "      cursor: pointer;\n",
              "      display: none;\n",
              "      fill: #1967D2;\n",
              "      height: 32px;\n",
              "      padding: 0 0 0 0;\n",
              "      width: 32px;\n",
              "    }\n",
              "\n",
              "    .colab-df-convert:hover {\n",
              "      background-color: #E2EBFA;\n",
              "      box-shadow: 0px 1px 2px rgba(60, 64, 67, 0.3), 0px 1px 3px 1px rgba(60, 64, 67, 0.15);\n",
              "      fill: #174EA6;\n",
              "    }\n",
              "\n",
              "    .colab-df-buttons div {\n",
              "      margin-bottom: 4px;\n",
              "    }\n",
              "\n",
              "    [theme=dark] .colab-df-convert {\n",
              "      background-color: #3B4455;\n",
              "      fill: #D2E3FC;\n",
              "    }\n",
              "\n",
              "    [theme=dark] .colab-df-convert:hover {\n",
              "      background-color: #434B5C;\n",
              "      box-shadow: 0px 1px 3px 1px rgba(0, 0, 0, 0.15);\n",
              "      filter: drop-shadow(0px 1px 2px rgba(0, 0, 0, 0.3));\n",
              "      fill: #FFFFFF;\n",
              "    }\n",
              "  </style>\n",
              "\n",
              "    <script>\n",
              "      const buttonEl =\n",
              "        document.querySelector('#df-cce2fd99-b07d-4d44-a32c-d79c6e93cf6e button.colab-df-convert');\n",
              "      buttonEl.style.display =\n",
              "        google.colab.kernel.accessAllowed ? 'block' : 'none';\n",
              "\n",
              "      async function convertToInteractive(key) {\n",
              "        const element = document.querySelector('#df-cce2fd99-b07d-4d44-a32c-d79c6e93cf6e');\n",
              "        const dataTable =\n",
              "          await google.colab.kernel.invokeFunction('convertToInteractive',\n",
              "                                                    [key], {});\n",
              "        if (!dataTable) return;\n",
              "\n",
              "        const docLinkHtml = 'Like what you see? Visit the ' +\n",
              "          '<a target=\"_blank\" href=https://colab.research.google.com/notebooks/data_table.ipynb>data table notebook</a>'\n",
              "          + ' to learn more about interactive tables.';\n",
              "        element.innerHTML = '';\n",
              "        dataTable['output_type'] = 'display_data';\n",
              "        await google.colab.output.renderOutput(dataTable, element);\n",
              "        const docLink = document.createElement('div');\n",
              "        docLink.innerHTML = docLinkHtml;\n",
              "        element.appendChild(docLink);\n",
              "      }\n",
              "    </script>\n",
              "  </div>\n",
              "\n",
              "\n",
              "<div id=\"df-c2a237de-26ad-4398-a105-73df9fc3d9f8\">\n",
              "  <button class=\"colab-df-quickchart\" onclick=\"quickchart('df-c2a237de-26ad-4398-a105-73df9fc3d9f8')\"\n",
              "            title=\"Suggest charts\"\n",
              "            style=\"display:none;\">\n",
              "\n",
              "<svg xmlns=\"http://www.w3.org/2000/svg\" height=\"24px\"viewBox=\"0 0 24 24\"\n",
              "     width=\"24px\">\n",
              "    <g>\n",
              "        <path d=\"M19 3H5c-1.1 0-2 .9-2 2v14c0 1.1.9 2 2 2h14c1.1 0 2-.9 2-2V5c0-1.1-.9-2-2-2zM9 17H7v-7h2v7zm4 0h-2V7h2v10zm4 0h-2v-4h2v4z\"/>\n",
              "    </g>\n",
              "</svg>\n",
              "  </button>\n",
              "\n",
              "<style>\n",
              "  .colab-df-quickchart {\n",
              "      --bg-color: #E8F0FE;\n",
              "      --fill-color: #1967D2;\n",
              "      --hover-bg-color: #E2EBFA;\n",
              "      --hover-fill-color: #174EA6;\n",
              "      --disabled-fill-color: #AAA;\n",
              "      --disabled-bg-color: #DDD;\n",
              "  }\n",
              "\n",
              "  [theme=dark] .colab-df-quickchart {\n",
              "      --bg-color: #3B4455;\n",
              "      --fill-color: #D2E3FC;\n",
              "      --hover-bg-color: #434B5C;\n",
              "      --hover-fill-color: #FFFFFF;\n",
              "      --disabled-bg-color: #3B4455;\n",
              "      --disabled-fill-color: #666;\n",
              "  }\n",
              "\n",
              "  .colab-df-quickchart {\n",
              "    background-color: var(--bg-color);\n",
              "    border: none;\n",
              "    border-radius: 50%;\n",
              "    cursor: pointer;\n",
              "    display: none;\n",
              "    fill: var(--fill-color);\n",
              "    height: 32px;\n",
              "    padding: 0;\n",
              "    width: 32px;\n",
              "  }\n",
              "\n",
              "  .colab-df-quickchart:hover {\n",
              "    background-color: var(--hover-bg-color);\n",
              "    box-shadow: 0 1px 2px rgba(60, 64, 67, 0.3), 0 1px 3px 1px rgba(60, 64, 67, 0.15);\n",
              "    fill: var(--button-hover-fill-color);\n",
              "  }\n",
              "\n",
              "  .colab-df-quickchart-complete:disabled,\n",
              "  .colab-df-quickchart-complete:disabled:hover {\n",
              "    background-color: var(--disabled-bg-color);\n",
              "    fill: var(--disabled-fill-color);\n",
              "    box-shadow: none;\n",
              "  }\n",
              "\n",
              "  .colab-df-spinner {\n",
              "    border: 2px solid var(--fill-color);\n",
              "    border-color: transparent;\n",
              "    border-bottom-color: var(--fill-color);\n",
              "    animation:\n",
              "      spin 1s steps(1) infinite;\n",
              "  }\n",
              "\n",
              "  @keyframes spin {\n",
              "    0% {\n",
              "      border-color: transparent;\n",
              "      border-bottom-color: var(--fill-color);\n",
              "      border-left-color: var(--fill-color);\n",
              "    }\n",
              "    20% {\n",
              "      border-color: transparent;\n",
              "      border-left-color: var(--fill-color);\n",
              "      border-top-color: var(--fill-color);\n",
              "    }\n",
              "    30% {\n",
              "      border-color: transparent;\n",
              "      border-left-color: var(--fill-color);\n",
              "      border-top-color: var(--fill-color);\n",
              "      border-right-color: var(--fill-color);\n",
              "    }\n",
              "    40% {\n",
              "      border-color: transparent;\n",
              "      border-right-color: var(--fill-color);\n",
              "      border-top-color: var(--fill-color);\n",
              "    }\n",
              "    60% {\n",
              "      border-color: transparent;\n",
              "      border-right-color: var(--fill-color);\n",
              "    }\n",
              "    80% {\n",
              "      border-color: transparent;\n",
              "      border-right-color: var(--fill-color);\n",
              "      border-bottom-color: var(--fill-color);\n",
              "    }\n",
              "    90% {\n",
              "      border-color: transparent;\n",
              "      border-bottom-color: var(--fill-color);\n",
              "    }\n",
              "  }\n",
              "</style>\n",
              "\n",
              "  <script>\n",
              "    async function quickchart(key) {\n",
              "      const quickchartButtonEl =\n",
              "        document.querySelector('#' + key + ' button');\n",
              "      quickchartButtonEl.disabled = true;  // To prevent multiple clicks.\n",
              "      quickchartButtonEl.classList.add('colab-df-spinner');\n",
              "      try {\n",
              "        const charts = await google.colab.kernel.invokeFunction(\n",
              "            'suggestCharts', [key], {});\n",
              "      } catch (error) {\n",
              "        console.error('Error during call to suggestCharts:', error);\n",
              "      }\n",
              "      quickchartButtonEl.classList.remove('colab-df-spinner');\n",
              "      quickchartButtonEl.classList.add('colab-df-quickchart-complete');\n",
              "    }\n",
              "    (() => {\n",
              "      let quickchartButtonEl =\n",
              "        document.querySelector('#df-c2a237de-26ad-4398-a105-73df9fc3d9f8 button');\n",
              "      quickchartButtonEl.style.display =\n",
              "        google.colab.kernel.accessAllowed ? 'block' : 'none';\n",
              "    })();\n",
              "  </script>\n",
              "</div>\n",
              "\n",
              "    </div>\n",
              "  </div>\n"
            ],
            "text/plain": [
              "                site\n",
              "21     www.google.fr\n",
              "23    www.google.com\n",
              "782   annotathon.org\n",
              "22   apis.google.com"
            ]
          },
          "execution_count": 44,
          "metadata": {},
          "output_type": "execute_result"
        }
      ],
      "source": [
        "# Top websites in the training data set\n",
        "top_sites = (\n",
        "    pd.Series(train_df[sites].values.flatten())\n",
        "    .value_counts()\n",
        "    .sort_values(ascending=False)\n",
        "    .head(5)\n",
        ")\n",
        "print(top_sites)\n",
        "sites_dict.loc[top_sites.drop(0).index]"
      ]
    },
    {
      "cell_type": "markdown",
      "metadata": {
        "id": "-rMalbv35a7p"
      },
      "source": [
        "\n",
        "\n",
        "---\n",
        "\n",
        "\n",
        "Now let us look at the timestamps and try to characterize sessions as timeframes:"
      ]
    },
    {
      "cell_type": "code",
      "execution_count": null,
      "metadata": {
        "colab": {
          "base_uri": "https://localhost:8080/",
          "height": 237
        },
        "id": "-vz6BFIS5mSM",
        "outputId": "7004a806-2488-4d1c-de03-0733b2ee087c"
      },
      "outputs": [
        {
          "data": {
            "application/vnd.google.colaboratory.intrinsic+json": {
              "type": "dataframe",
              "variable_name": "time_df"
            },
            "text/html": [
              "\n",
              "  <div id=\"df-bbebdd75-c572-4aa1-b94c-c68101a01f0f\" class=\"colab-df-container\">\n",
              "    <div>\n",
              "<style scoped>\n",
              "    .dataframe tbody tr th:only-of-type {\n",
              "        vertical-align: middle;\n",
              "    }\n",
              "\n",
              "    .dataframe tbody tr th {\n",
              "        vertical-align: top;\n",
              "    }\n",
              "\n",
              "    .dataframe thead th {\n",
              "        text-align: right;\n",
              "    }\n",
              "</style>\n",
              "<table border=\"1\" class=\"dataframe\">\n",
              "  <thead>\n",
              "    <tr style=\"text-align: right;\">\n",
              "      <th></th>\n",
              "      <th>target</th>\n",
              "      <th>min</th>\n",
              "      <th>max</th>\n",
              "      <th>seconds</th>\n",
              "    </tr>\n",
              "    <tr>\n",
              "      <th>session_id</th>\n",
              "      <th></th>\n",
              "      <th></th>\n",
              "      <th></th>\n",
              "      <th></th>\n",
              "    </tr>\n",
              "  </thead>\n",
              "  <tbody>\n",
              "    <tr>\n",
              "      <th>21669</th>\n",
              "      <td>0</td>\n",
              "      <td>2013-01-12 08:05:57</td>\n",
              "      <td>2013-01-12 08:05:57</td>\n",
              "      <td>0.0</td>\n",
              "    </tr>\n",
              "    <tr>\n",
              "      <th>54843</th>\n",
              "      <td>0</td>\n",
              "      <td>2013-01-12 08:37:23</td>\n",
              "      <td>2013-01-12 09:07:09</td>\n",
              "      <td>1786.0</td>\n",
              "    </tr>\n",
              "    <tr>\n",
              "      <th>77292</th>\n",
              "      <td>0</td>\n",
              "      <td>2013-01-12 08:50:13</td>\n",
              "      <td>2013-01-12 08:50:17</td>\n",
              "      <td>4.0</td>\n",
              "    </tr>\n",
              "    <tr>\n",
              "      <th>114021</th>\n",
              "      <td>0</td>\n",
              "      <td>2013-01-12 08:50:17</td>\n",
              "      <td>2013-01-12 08:50:20</td>\n",
              "      <td>3.0</td>\n",
              "    </tr>\n",
              "    <tr>\n",
              "      <th>146670</th>\n",
              "      <td>0</td>\n",
              "      <td>2013-01-12 08:50:20</td>\n",
              "      <td>2013-01-12 08:50:22</td>\n",
              "      <td>2.0</td>\n",
              "    </tr>\n",
              "  </tbody>\n",
              "</table>\n",
              "</div>\n",
              "    <div class=\"colab-df-buttons\">\n",
              "\n",
              "  <div class=\"colab-df-container\">\n",
              "    <button class=\"colab-df-convert\" onclick=\"convertToInteractive('df-bbebdd75-c572-4aa1-b94c-c68101a01f0f')\"\n",
              "            title=\"Convert this dataframe to an interactive table.\"\n",
              "            style=\"display:none;\">\n",
              "\n",
              "  <svg xmlns=\"http://www.w3.org/2000/svg\" height=\"24px\" viewBox=\"0 -960 960 960\">\n",
              "    <path d=\"M120-120v-720h720v720H120Zm60-500h600v-160H180v160Zm220 220h160v-160H400v160Zm0 220h160v-160H400v160ZM180-400h160v-160H180v160Zm440 0h160v-160H620v160ZM180-180h160v-160H180v160Zm440 0h160v-160H620v160Z\"/>\n",
              "  </svg>\n",
              "    </button>\n",
              "\n",
              "  <style>\n",
              "    .colab-df-container {\n",
              "      display:flex;\n",
              "      gap: 12px;\n",
              "    }\n",
              "\n",
              "    .colab-df-convert {\n",
              "      background-color: #E8F0FE;\n",
              "      border: none;\n",
              "      border-radius: 50%;\n",
              "      cursor: pointer;\n",
              "      display: none;\n",
              "      fill: #1967D2;\n",
              "      height: 32px;\n",
              "      padding: 0 0 0 0;\n",
              "      width: 32px;\n",
              "    }\n",
              "\n",
              "    .colab-df-convert:hover {\n",
              "      background-color: #E2EBFA;\n",
              "      box-shadow: 0px 1px 2px rgba(60, 64, 67, 0.3), 0px 1px 3px 1px rgba(60, 64, 67, 0.15);\n",
              "      fill: #174EA6;\n",
              "    }\n",
              "\n",
              "    .colab-df-buttons div {\n",
              "      margin-bottom: 4px;\n",
              "    }\n",
              "\n",
              "    [theme=dark] .colab-df-convert {\n",
              "      background-color: #3B4455;\n",
              "      fill: #D2E3FC;\n",
              "    }\n",
              "\n",
              "    [theme=dark] .colab-df-convert:hover {\n",
              "      background-color: #434B5C;\n",
              "      box-shadow: 0px 1px 3px 1px rgba(0, 0, 0, 0.15);\n",
              "      filter: drop-shadow(0px 1px 2px rgba(0, 0, 0, 0.3));\n",
              "      fill: #FFFFFF;\n",
              "    }\n",
              "  </style>\n",
              "\n",
              "    <script>\n",
              "      const buttonEl =\n",
              "        document.querySelector('#df-bbebdd75-c572-4aa1-b94c-c68101a01f0f button.colab-df-convert');\n",
              "      buttonEl.style.display =\n",
              "        google.colab.kernel.accessAllowed ? 'block' : 'none';\n",
              "\n",
              "      async function convertToInteractive(key) {\n",
              "        const element = document.querySelector('#df-bbebdd75-c572-4aa1-b94c-c68101a01f0f');\n",
              "        const dataTable =\n",
              "          await google.colab.kernel.invokeFunction('convertToInteractive',\n",
              "                                                    [key], {});\n",
              "        if (!dataTable) return;\n",
              "\n",
              "        const docLinkHtml = 'Like what you see? Visit the ' +\n",
              "          '<a target=\"_blank\" href=https://colab.research.google.com/notebooks/data_table.ipynb>data table notebook</a>'\n",
              "          + ' to learn more about interactive tables.';\n",
              "        element.innerHTML = '';\n",
              "        dataTable['output_type'] = 'display_data';\n",
              "        await google.colab.output.renderOutput(dataTable, element);\n",
              "        const docLink = document.createElement('div');\n",
              "        docLink.innerHTML = docLinkHtml;\n",
              "        element.appendChild(docLink);\n",
              "      }\n",
              "    </script>\n",
              "  </div>\n",
              "\n",
              "\n",
              "<div id=\"df-e4ad85bc-3f8b-405c-990a-e8e2e6bc62b5\">\n",
              "  <button class=\"colab-df-quickchart\" onclick=\"quickchart('df-e4ad85bc-3f8b-405c-990a-e8e2e6bc62b5')\"\n",
              "            title=\"Suggest charts\"\n",
              "            style=\"display:none;\">\n",
              "\n",
              "<svg xmlns=\"http://www.w3.org/2000/svg\" height=\"24px\"viewBox=\"0 0 24 24\"\n",
              "     width=\"24px\">\n",
              "    <g>\n",
              "        <path d=\"M19 3H5c-1.1 0-2 .9-2 2v14c0 1.1.9 2 2 2h14c1.1 0 2-.9 2-2V5c0-1.1-.9-2-2-2zM9 17H7v-7h2v7zm4 0h-2V7h2v10zm4 0h-2v-4h2v4z\"/>\n",
              "    </g>\n",
              "</svg>\n",
              "  </button>\n",
              "\n",
              "<style>\n",
              "  .colab-df-quickchart {\n",
              "      --bg-color: #E8F0FE;\n",
              "      --fill-color: #1967D2;\n",
              "      --hover-bg-color: #E2EBFA;\n",
              "      --hover-fill-color: #174EA6;\n",
              "      --disabled-fill-color: #AAA;\n",
              "      --disabled-bg-color: #DDD;\n",
              "  }\n",
              "\n",
              "  [theme=dark] .colab-df-quickchart {\n",
              "      --bg-color: #3B4455;\n",
              "      --fill-color: #D2E3FC;\n",
              "      --hover-bg-color: #434B5C;\n",
              "      --hover-fill-color: #FFFFFF;\n",
              "      --disabled-bg-color: #3B4455;\n",
              "      --disabled-fill-color: #666;\n",
              "  }\n",
              "\n",
              "  .colab-df-quickchart {\n",
              "    background-color: var(--bg-color);\n",
              "    border: none;\n",
              "    border-radius: 50%;\n",
              "    cursor: pointer;\n",
              "    display: none;\n",
              "    fill: var(--fill-color);\n",
              "    height: 32px;\n",
              "    padding: 0;\n",
              "    width: 32px;\n",
              "  }\n",
              "\n",
              "  .colab-df-quickchart:hover {\n",
              "    background-color: var(--hover-bg-color);\n",
              "    box-shadow: 0 1px 2px rgba(60, 64, 67, 0.3), 0 1px 3px 1px rgba(60, 64, 67, 0.15);\n",
              "    fill: var(--button-hover-fill-color);\n",
              "  }\n",
              "\n",
              "  .colab-df-quickchart-complete:disabled,\n",
              "  .colab-df-quickchart-complete:disabled:hover {\n",
              "    background-color: var(--disabled-bg-color);\n",
              "    fill: var(--disabled-fill-color);\n",
              "    box-shadow: none;\n",
              "  }\n",
              "\n",
              "  .colab-df-spinner {\n",
              "    border: 2px solid var(--fill-color);\n",
              "    border-color: transparent;\n",
              "    border-bottom-color: var(--fill-color);\n",
              "    animation:\n",
              "      spin 1s steps(1) infinite;\n",
              "  }\n",
              "\n",
              "  @keyframes spin {\n",
              "    0% {\n",
              "      border-color: transparent;\n",
              "      border-bottom-color: var(--fill-color);\n",
              "      border-left-color: var(--fill-color);\n",
              "    }\n",
              "    20% {\n",
              "      border-color: transparent;\n",
              "      border-left-color: var(--fill-color);\n",
              "      border-top-color: var(--fill-color);\n",
              "    }\n",
              "    30% {\n",
              "      border-color: transparent;\n",
              "      border-left-color: var(--fill-color);\n",
              "      border-top-color: var(--fill-color);\n",
              "      border-right-color: var(--fill-color);\n",
              "    }\n",
              "    40% {\n",
              "      border-color: transparent;\n",
              "      border-right-color: var(--fill-color);\n",
              "      border-top-color: var(--fill-color);\n",
              "    }\n",
              "    60% {\n",
              "      border-color: transparent;\n",
              "      border-right-color: var(--fill-color);\n",
              "    }\n",
              "    80% {\n",
              "      border-color: transparent;\n",
              "      border-right-color: var(--fill-color);\n",
              "      border-bottom-color: var(--fill-color);\n",
              "    }\n",
              "    90% {\n",
              "      border-color: transparent;\n",
              "      border-bottom-color: var(--fill-color);\n",
              "    }\n",
              "  }\n",
              "</style>\n",
              "\n",
              "  <script>\n",
              "    async function quickchart(key) {\n",
              "      const quickchartButtonEl =\n",
              "        document.querySelector('#' + key + ' button');\n",
              "      quickchartButtonEl.disabled = true;  // To prevent multiple clicks.\n",
              "      quickchartButtonEl.classList.add('colab-df-spinner');\n",
              "      try {\n",
              "        const charts = await google.colab.kernel.invokeFunction(\n",
              "            'suggestCharts', [key], {});\n",
              "      } catch (error) {\n",
              "        console.error('Error during call to suggestCharts:', error);\n",
              "      }\n",
              "      quickchartButtonEl.classList.remove('colab-df-spinner');\n",
              "      quickchartButtonEl.classList.add('colab-df-quickchart-complete');\n",
              "    }\n",
              "    (() => {\n",
              "      let quickchartButtonEl =\n",
              "        document.querySelector('#df-e4ad85bc-3f8b-405c-990a-e8e2e6bc62b5 button');\n",
              "      quickchartButtonEl.style.display =\n",
              "        google.colab.kernel.accessAllowed ? 'block' : 'none';\n",
              "    })();\n",
              "  </script>\n",
              "</div>\n",
              "\n",
              "    </div>\n",
              "  </div>\n"
            ],
            "text/plain": [
              "            target                 min                 max  seconds\n",
              "session_id                                                         \n",
              "21669            0 2013-01-12 08:05:57 2013-01-12 08:05:57      0.0\n",
              "54843            0 2013-01-12 08:37:23 2013-01-12 09:07:09   1786.0\n",
              "77292            0 2013-01-12 08:50:13 2013-01-12 08:50:17      4.0\n",
              "114021           0 2013-01-12 08:50:17 2013-01-12 08:50:20      3.0\n",
              "146670           0 2013-01-12 08:50:20 2013-01-12 08:50:22      2.0"
            ]
          },
          "execution_count": 45,
          "metadata": {},
          "output_type": "execute_result"
        }
      ],
      "source": [
        "# Create a separate dataframe where we will work with timestamps\n",
        "time_df = pd.DataFrame(index=train_df.index)\n",
        "time_df[\"target\"] = train_df[\"target\"]\n",
        "\n",
        "# Find sessions' starting and ending\n",
        "time_df[\"min\"] = train_df[times].min(axis=1)\n",
        "time_df[\"max\"] = train_df[times].max(axis=1)\n",
        "\n",
        "# Calculate sessions' duration in seconds\n",
        "time_df[\"seconds\"] = (time_df[\"max\"] - time_df[\"min\"]) / np.timedelta64(1, \"s\")\n",
        "\n",
        "time_df.head()"
      ]
    },
    {
      "cell_type": "markdown",
      "metadata": {
        "id": "WPFZbQca5xrF"
      },
      "source": [
        "\n",
        "In the next question, we are using the notion of \"approximately the same\". To be strict, let's define it: $a$ is approximately the same as $b$ ($a \\approx b $) if their difference is less than or equal to 5% of the maximum between $a$ and $b$, i.e. $a \\approx b \\leftrightarrow \\frac{|a-b|}{max(a,b)} \\leq 0.05$.\n",
        "\n",
        "\n",
        "\n",
        "---\n",
        "\n",
        "\n",
        "\n",
        "---\n",
        "# Q1:  User Identification with Logistic Regression (60pt)\n",
        "\n",
        "## Q1.1: Brief Exploratory Data Analysis (10pt)\n",
        "- What kind of websites does Alice visit the most?\n",
        "\n",
        "- On average, is Alice's session shorter than that of other users\n",
        "\n",
        "- What percentage of all sessions belong to Alice?\n",
        "\n",
        "- Are minimum and maximum durations of Alice's and other users' sessions approximately the same?\n",
        "\n",
        "- Is standard deviation of Alice's sessions duration approximately the same as for non-Alice's sessions\n",
        "\n",
        "\n"
      ]
    },
    {
      "cell_type": "code",
      "execution_count": null,
      "metadata": {
        "colab": {
          "base_uri": "https://localhost:8080/"
        },
        "id": "jOmlPAIk62UI",
        "outputId": "44cc57bc-81a5-447d-f18d-05fea1c43124"
      },
      "outputs": [
        {
          "name": "stdout",
          "output_type": "stream",
          "text": [
            "Websites most visited by Alice:\n",
            " ['i1.ytimg.com' 's.youtube.com' 'www.youtube.com' 'www.facebook.com'\n",
            " 'www.google.fr']\n",
            "Frequency of the visits by Alice:\n",
            " 77    1382\n",
            "80    1354\n",
            "76    1307\n",
            "29     897\n",
            "21     857\n",
            "dtype: int64\n"
          ]
        }
      ],
      "source": [
        "# your code starts here\n",
        "#What kind of websites does Alice visit the most?\n",
        "alice_visits = train_df[train_df['target'] == 1][sites].values.flatten()\n",
        "alice_top_sites = pd.Series(alice_visits[alice_visits != 0]).value_counts().head().index.tolist()\n",
        "alice_top_sites = sites_dict.loc[alice_top_sites]['site'].values\n",
        "print(\"Websites most visited by Alice:\\n\", alice_top_sites)\n",
        "alice_visits = train_df[train_df['target'] == 1]\n",
        "alice_visits = alice_visits[sites].stack()\n",
        "alice_top_sites = alice_visits.value_counts().head()\n",
        "print(\"Frequency of the visits by Alice:\\n\", alice_top_sites)"
      ]
    },
    {
      "cell_type": "markdown",
      "metadata": {
        "id": "vP1iUoOhXfox"
      },
      "source": [
        "  'i1.ytimg.com; Site 77 is the most visited with 1382 visits, followed by\n",
        "   's.youtube.com; site 80 with 1354 visits, 'www.youtube.com'; site 76 with 1307 visits, 'www.facebook.com'; site 29 with 897 visits, and 'www.google.fr.; site 21 with 857 visits.\n"
      ]
    },
    {
      "cell_type": "code",
      "execution_count": null,
      "metadata": {
        "colab": {
          "base_uri": "https://localhost:8080/"
        },
        "id": "i6Y9dJZGTqh3",
        "outputId": "40fda967-f38a-40b6-818f-a01f74cbb805"
      },
      "outputs": [
        {
          "name": "stdout",
          "output_type": "stream",
          "text": [
            "\n",
            "Average session duration for Alice: 52.29647366129734\n",
            "Average session duration for non-Alice users: 139.28237232552215\n",
            "Alice's session is shorter than other users.\n"
          ]
        }
      ],
      "source": [
        "# On average, is Alice's session shorter than that of other users\n",
        "\n",
        "alice_avg_duration = time_df.groupby('target')['seconds'].mean()\n",
        "print(\"\\nAverage session duration for Alice:\", alice_avg_duration[1])\n",
        "print(\"Average session duration for non-Alice users:\", alice_avg_duration[0])\n",
        "if alice_avg_duration[1] < alice_avg_duration[0]:\n",
        "    print(\"Alice's session is shorter than other users.\")\n",
        "else:\n",
        "    print(\"Alice's session is not shorter than other users.\")\n"
      ]
    },
    {
      "cell_type": "markdown",
      "metadata": {
        "id": "GuJgJP7tYQW9"
      },
      "source": [
        "The average session duration for Alice is approximately 52.30 seconds, while the average for non-Alice users is approximately 139.28 seconds. This means that Alice's sessions are significantly shorter than those of other users."
      ]
    },
    {
      "cell_type": "code",
      "execution_count": null,
      "metadata": {
        "colab": {
          "base_uri": "https://localhost:8080/"
        },
        "id": "k4Kw7uIPTt_q",
        "outputId": "55ae0832-6091-4163-fd4d-862682a74ee5"
      },
      "outputs": [
        {
          "name": "stdout",
          "output_type": "stream",
          "text": [
            "\n",
            "Percentage of sessions belonging to Alice: 0.905896411514389\n"
          ]
        }
      ],
      "source": [
        "#What percentage of all sessions belong to Alice?\n",
        "\n",
        "alice_percentage = (train_df['target'] == 1).mean() * 100\n",
        "print(\"\\nPercentage of sessions belonging to Alice:\", alice_percentage)"
      ]
    },
    {
      "cell_type": "markdown",
      "metadata": {
        "id": "lIvKUUWcYeEQ"
      },
      "source": [
        "Alice's sessions account for approximately 0.91% of all sessions. This is a small fraction of the total sessions."
      ]
    },
    {
      "cell_type": "code",
      "execution_count": null,
      "metadata": {
        "colab": {
          "base_uri": "https://localhost:8080/"
        },
        "id": "kIkIkRtxT0wT",
        "outputId": "2a3db15f-267b-425d-e61a-354b9fc6e19b"
      },
      "outputs": [
        {
          "name": "stdout",
          "output_type": "stream",
          "text": [
            "\n",
            "Minimum and Maximum duration for Alice: (0.0, 1763.0)\n",
            "Minimum durations are not approximately the same.\n",
            "Minimum and Maximum duration for non-Alice users: (0.0, 1800.0)\n",
            "Maximum durations are approximately the same.\n"
          ]
        },
        {
          "name": "stderr",
          "output_type": "stream",
          "text": [
            "<ipython-input-49-55f7f80226b5>:8: RuntimeWarning: invalid value encountered in scalar divide\n",
            "  min_diff = abs(alice_min_duration - non_alice_min_duration) / max(alice_min_duration, non_alice_min_duration)\n"
          ]
        }
      ],
      "source": [
        "#Are minimum and maximum durations of Alice's and other users' sessions approximately the same?\n",
        "\n",
        "alice_min_duration = time_df[time_df['target'] == 1]['seconds'].min()\n",
        "alice_max_duration = time_df[time_df['target'] == 1]['seconds'].max()\n",
        "non_alice_min_duration = time_df[time_df['target'] == 0]['seconds'].min()\n",
        "non_alice_max_duration = time_df[time_df['target'] == 0]['seconds'].max()\n",
        "\n",
        "min_diff = abs(alice_min_duration - non_alice_min_duration) / max(alice_min_duration, non_alice_min_duration)\n",
        "max_diff = abs(alice_max_duration - non_alice_max_duration) / max(alice_max_duration, non_alice_max_duration)\n",
        "\n",
        "print(f\"\\nMinimum and Maximum duration for Alice: {alice_min_duration,alice_max_duration}\")\n",
        "if min_diff <= 0.05:\n",
        "  print(\"Minimum durations are approximately the same.\")\n",
        "else:\n",
        "  print(\"Minimum durations are not approximately the same.\")\n",
        "\n",
        "print(f\"Minimum and Maximum duration for non-Alice users: {non_alice_min_duration,non_alice_max_duration}\")\n",
        "if max_diff <= 0.05:\n",
        "  print(\"Maximum durations are approximately the same.\")\n",
        "else:\n",
        "  print(\"Maximum durations are not approximately the same.\")"
      ]
    },
    {
      "cell_type": "markdown",
      "metadata": {
        "id": "RYdC_8ZuYvl_"
      },
      "source": [
        "For Alice, the minimum session duration is 0 seconds and the maximum is 1763 seconds. For non-Alice users, the minimum is also 0 seconds and the maximum is 1800 seconds. Both have a value of exactly 0 seconds, which makes them identical. However, the term \"approximately the same\" is not relevant here since both durations are precisely zero. Max durations are close so we can say approximately same."
      ]
    },
    {
      "cell_type": "code",
      "execution_count": null,
      "metadata": {
        "colab": {
          "base_uri": "https://localhost:8080/"
        },
        "id": "RO6oXIsUVzaT",
        "outputId": "89e6a94f-073b-41cb-d913-ac5067421d2f"
      },
      "outputs": [
        {
          "name": "stdout",
          "output_type": "stream",
          "text": [
            "\n",
            "Standard deviation for Alice's sessions: 153.30901405274358\n",
            "Standard deviation for non-Alice's sessions: 296.6535177185032\n",
            "Standard deviations are not approximately the same\n"
          ]
        }
      ],
      "source": [
        "#Is standard deviation of Alice's sessions duration approximately the same as for non-Alice's sessions\n",
        "\n",
        "alice_std_dev = time_df[time_df['target'] == 1]['seconds'].std()\n",
        "print(\"\\nStandard deviation for Alice's sessions:\", alice_std_dev)\n",
        "\n",
        "non_alice_std_dev = time_df[time_df['target'] == 0]['seconds'].std()\n",
        "print(\"Standard deviation for non-Alice's sessions:\", non_alice_std_dev)\n",
        "\n",
        "std_dev_diff = abs(alice_std_dev - non_alice_std_dev) / max(alice_std_dev, non_alice_std_dev)\n",
        "if std_dev_diff <= 0.05:\n",
        "  print(\"Standard deviations are approximately the same\")\n",
        "else:\n",
        "  print(\"Standard deviations are not approximately the same\")"
      ]
    },
    {
      "cell_type": "markdown",
      "metadata": {
        "id": "5r3Qqr4haDwh"
      },
      "source": [
        "The standard deviation for Alice's sessions is approximately 153.31 seconds, while it is approximately 296.65 seconds for non-Alice users. These values are significantly different, indicating that the variation in session duration is not approximately the same between Alice and non-Alice users."
      ]
    },
    {
      "cell_type": "markdown",
      "metadata": {
        "id": "7vOGgvvkYwnV"
      },
      "source": []
    },
    {
      "cell_type": "markdown",
      "metadata": {
        "id": "w9hl1t8uLSWp"
      },
      "source": [
        "### **Discuss your findings**:"
      ]
    },
    {
      "cell_type": "markdown",
      "metadata": {
        "id": "ChCDij_l7WOC"
      },
      "source": [
        "\n",
        "\n",
        "---\n",
        "\n",
        "\n",
        "\n",
        "---\n",
        "\n",
        "\n",
        "In order to train our first model, we need to prepare the data. First of all, exclude the target variable from the training set. Now both training and test sets have the same number of columns, therefore aggregate them into one dataframe.  Thus, all transformations will be performed simultaneously on both training and test data sets.\n",
        "\n",
        "On the one hand, it leads to the fact that both data sets have one feature space (you don't have to worry that you forgot to transform a feature in some data sets). On the other hand, processing time will increase.\n",
        "For the enormously large sets it might turn out that it is impossible to transform both data sets simultaneously (and sometimes you have to split your transformations into several stages only for train/test data set).\n",
        "In our case, with this particular data set, we are going to perform all the transformations for the whole united dataframe at once, and before training the model or making predictions we will just take its appropriate part."
      ]
    },
    {
      "cell_type": "code",
      "execution_count": null,
      "metadata": {
        "id": "_Q4fOiWy7c9y"
      },
      "outputs": [],
      "source": [
        "# Our target variable\n",
        "y_train = train_df[\"target\"]\n",
        "\n",
        "# United dataframe of the initial data\n",
        "full_df = pd.concat([train_df.drop(\"target\", axis=1), test_df])\n",
        "\n",
        "# Index to split the training and test data sets\n",
        "idx_split = train_df.shape[0]"
      ]
    },
    {
      "cell_type": "markdown",
      "metadata": {
        "id": "qis4d7xM7k-U"
      },
      "source": [
        "For the very basic model, we will use only the visited websites in the session (but we will not take into account timestamp features). The point behind this data selection is: *Alice has her favorite sites, and the more often you see these sites in the session, the higher probability that this is Alice's session, and vice versa.*\n",
        "\n",
        "Let us prepare the data, we will take only features `site1, site2, ... , site10` from the whole dataframe. Keep in mind that the missing values are replaced with zero. Here is how the first rows of the dataframe look like:"
      ]
    },
    {
      "cell_type": "code",
      "execution_count": null,
      "metadata": {
        "colab": {
          "base_uri": "https://localhost:8080/",
          "height": 237
        },
        "id": "aXBKlCc47nGf",
        "outputId": "378e50ba-dd3d-4409-d2bc-a9ee246a4aee"
      },
      "outputs": [
        {
          "data": {
            "application/vnd.google.colaboratory.intrinsic+json": {
              "type": "dataframe",
              "variable_name": "full_sites"
            },
            "text/html": [
              "\n",
              "  <div id=\"df-1abbbbd4-8e5d-4501-a6dd-39dca6ed84d3\" class=\"colab-df-container\">\n",
              "    <div>\n",
              "<style scoped>\n",
              "    .dataframe tbody tr th:only-of-type {\n",
              "        vertical-align: middle;\n",
              "    }\n",
              "\n",
              "    .dataframe tbody tr th {\n",
              "        vertical-align: top;\n",
              "    }\n",
              "\n",
              "    .dataframe thead th {\n",
              "        text-align: right;\n",
              "    }\n",
              "</style>\n",
              "<table border=\"1\" class=\"dataframe\">\n",
              "  <thead>\n",
              "    <tr style=\"text-align: right;\">\n",
              "      <th></th>\n",
              "      <th>site1</th>\n",
              "      <th>site2</th>\n",
              "      <th>site3</th>\n",
              "      <th>site4</th>\n",
              "      <th>site5</th>\n",
              "      <th>site6</th>\n",
              "      <th>site7</th>\n",
              "      <th>site8</th>\n",
              "      <th>site9</th>\n",
              "      <th>site10</th>\n",
              "    </tr>\n",
              "    <tr>\n",
              "      <th>session_id</th>\n",
              "      <th></th>\n",
              "      <th></th>\n",
              "      <th></th>\n",
              "      <th></th>\n",
              "      <th></th>\n",
              "      <th></th>\n",
              "      <th></th>\n",
              "      <th></th>\n",
              "      <th></th>\n",
              "      <th></th>\n",
              "    </tr>\n",
              "  </thead>\n",
              "  <tbody>\n",
              "    <tr>\n",
              "      <th>21669</th>\n",
              "      <td>56</td>\n",
              "      <td>55</td>\n",
              "      <td>0</td>\n",
              "      <td>0</td>\n",
              "      <td>0</td>\n",
              "      <td>0</td>\n",
              "      <td>0</td>\n",
              "      <td>0</td>\n",
              "      <td>0</td>\n",
              "      <td>0</td>\n",
              "    </tr>\n",
              "    <tr>\n",
              "      <th>54843</th>\n",
              "      <td>56</td>\n",
              "      <td>55</td>\n",
              "      <td>56</td>\n",
              "      <td>55</td>\n",
              "      <td>0</td>\n",
              "      <td>0</td>\n",
              "      <td>0</td>\n",
              "      <td>0</td>\n",
              "      <td>0</td>\n",
              "      <td>0</td>\n",
              "    </tr>\n",
              "    <tr>\n",
              "      <th>77292</th>\n",
              "      <td>946</td>\n",
              "      <td>946</td>\n",
              "      <td>951</td>\n",
              "      <td>946</td>\n",
              "      <td>946</td>\n",
              "      <td>945</td>\n",
              "      <td>948</td>\n",
              "      <td>784</td>\n",
              "      <td>949</td>\n",
              "      <td>946</td>\n",
              "    </tr>\n",
              "    <tr>\n",
              "      <th>114021</th>\n",
              "      <td>945</td>\n",
              "      <td>948</td>\n",
              "      <td>949</td>\n",
              "      <td>948</td>\n",
              "      <td>945</td>\n",
              "      <td>946</td>\n",
              "      <td>947</td>\n",
              "      <td>945</td>\n",
              "      <td>946</td>\n",
              "      <td>946</td>\n",
              "    </tr>\n",
              "    <tr>\n",
              "      <th>146670</th>\n",
              "      <td>947</td>\n",
              "      <td>950</td>\n",
              "      <td>948</td>\n",
              "      <td>947</td>\n",
              "      <td>950</td>\n",
              "      <td>952</td>\n",
              "      <td>946</td>\n",
              "      <td>951</td>\n",
              "      <td>946</td>\n",
              "      <td>947</td>\n",
              "    </tr>\n",
              "  </tbody>\n",
              "</table>\n",
              "</div>\n",
              "    <div class=\"colab-df-buttons\">\n",
              "\n",
              "  <div class=\"colab-df-container\">\n",
              "    <button class=\"colab-df-convert\" onclick=\"convertToInteractive('df-1abbbbd4-8e5d-4501-a6dd-39dca6ed84d3')\"\n",
              "            title=\"Convert this dataframe to an interactive table.\"\n",
              "            style=\"display:none;\">\n",
              "\n",
              "  <svg xmlns=\"http://www.w3.org/2000/svg\" height=\"24px\" viewBox=\"0 -960 960 960\">\n",
              "    <path d=\"M120-120v-720h720v720H120Zm60-500h600v-160H180v160Zm220 220h160v-160H400v160Zm0 220h160v-160H400v160ZM180-400h160v-160H180v160Zm440 0h160v-160H620v160ZM180-180h160v-160H180v160Zm440 0h160v-160H620v160Z\"/>\n",
              "  </svg>\n",
              "    </button>\n",
              "\n",
              "  <style>\n",
              "    .colab-df-container {\n",
              "      display:flex;\n",
              "      gap: 12px;\n",
              "    }\n",
              "\n",
              "    .colab-df-convert {\n",
              "      background-color: #E8F0FE;\n",
              "      border: none;\n",
              "      border-radius: 50%;\n",
              "      cursor: pointer;\n",
              "      display: none;\n",
              "      fill: #1967D2;\n",
              "      height: 32px;\n",
              "      padding: 0 0 0 0;\n",
              "      width: 32px;\n",
              "    }\n",
              "\n",
              "    .colab-df-convert:hover {\n",
              "      background-color: #E2EBFA;\n",
              "      box-shadow: 0px 1px 2px rgba(60, 64, 67, 0.3), 0px 1px 3px 1px rgba(60, 64, 67, 0.15);\n",
              "      fill: #174EA6;\n",
              "    }\n",
              "\n",
              "    .colab-df-buttons div {\n",
              "      margin-bottom: 4px;\n",
              "    }\n",
              "\n",
              "    [theme=dark] .colab-df-convert {\n",
              "      background-color: #3B4455;\n",
              "      fill: #D2E3FC;\n",
              "    }\n",
              "\n",
              "    [theme=dark] .colab-df-convert:hover {\n",
              "      background-color: #434B5C;\n",
              "      box-shadow: 0px 1px 3px 1px rgba(0, 0, 0, 0.15);\n",
              "      filter: drop-shadow(0px 1px 2px rgba(0, 0, 0, 0.3));\n",
              "      fill: #FFFFFF;\n",
              "    }\n",
              "  </style>\n",
              "\n",
              "    <script>\n",
              "      const buttonEl =\n",
              "        document.querySelector('#df-1abbbbd4-8e5d-4501-a6dd-39dca6ed84d3 button.colab-df-convert');\n",
              "      buttonEl.style.display =\n",
              "        google.colab.kernel.accessAllowed ? 'block' : 'none';\n",
              "\n",
              "      async function convertToInteractive(key) {\n",
              "        const element = document.querySelector('#df-1abbbbd4-8e5d-4501-a6dd-39dca6ed84d3');\n",
              "        const dataTable =\n",
              "          await google.colab.kernel.invokeFunction('convertToInteractive',\n",
              "                                                    [key], {});\n",
              "        if (!dataTable) return;\n",
              "\n",
              "        const docLinkHtml = 'Like what you see? Visit the ' +\n",
              "          '<a target=\"_blank\" href=https://colab.research.google.com/notebooks/data_table.ipynb>data table notebook</a>'\n",
              "          + ' to learn more about interactive tables.';\n",
              "        element.innerHTML = '';\n",
              "        dataTable['output_type'] = 'display_data';\n",
              "        await google.colab.output.renderOutput(dataTable, element);\n",
              "        const docLink = document.createElement('div');\n",
              "        docLink.innerHTML = docLinkHtml;\n",
              "        element.appendChild(docLink);\n",
              "      }\n",
              "    </script>\n",
              "  </div>\n",
              "\n",
              "\n",
              "<div id=\"df-6ad5a1f3-edee-4d02-a853-f6dc0f332b1c\">\n",
              "  <button class=\"colab-df-quickchart\" onclick=\"quickchart('df-6ad5a1f3-edee-4d02-a853-f6dc0f332b1c')\"\n",
              "            title=\"Suggest charts\"\n",
              "            style=\"display:none;\">\n",
              "\n",
              "<svg xmlns=\"http://www.w3.org/2000/svg\" height=\"24px\"viewBox=\"0 0 24 24\"\n",
              "     width=\"24px\">\n",
              "    <g>\n",
              "        <path d=\"M19 3H5c-1.1 0-2 .9-2 2v14c0 1.1.9 2 2 2h14c1.1 0 2-.9 2-2V5c0-1.1-.9-2-2-2zM9 17H7v-7h2v7zm4 0h-2V7h2v10zm4 0h-2v-4h2v4z\"/>\n",
              "    </g>\n",
              "</svg>\n",
              "  </button>\n",
              "\n",
              "<style>\n",
              "  .colab-df-quickchart {\n",
              "      --bg-color: #E8F0FE;\n",
              "      --fill-color: #1967D2;\n",
              "      --hover-bg-color: #E2EBFA;\n",
              "      --hover-fill-color: #174EA6;\n",
              "      --disabled-fill-color: #AAA;\n",
              "      --disabled-bg-color: #DDD;\n",
              "  }\n",
              "\n",
              "  [theme=dark] .colab-df-quickchart {\n",
              "      --bg-color: #3B4455;\n",
              "      --fill-color: #D2E3FC;\n",
              "      --hover-bg-color: #434B5C;\n",
              "      --hover-fill-color: #FFFFFF;\n",
              "      --disabled-bg-color: #3B4455;\n",
              "      --disabled-fill-color: #666;\n",
              "  }\n",
              "\n",
              "  .colab-df-quickchart {\n",
              "    background-color: var(--bg-color);\n",
              "    border: none;\n",
              "    border-radius: 50%;\n",
              "    cursor: pointer;\n",
              "    display: none;\n",
              "    fill: var(--fill-color);\n",
              "    height: 32px;\n",
              "    padding: 0;\n",
              "    width: 32px;\n",
              "  }\n",
              "\n",
              "  .colab-df-quickchart:hover {\n",
              "    background-color: var(--hover-bg-color);\n",
              "    box-shadow: 0 1px 2px rgba(60, 64, 67, 0.3), 0 1px 3px 1px rgba(60, 64, 67, 0.15);\n",
              "    fill: var(--button-hover-fill-color);\n",
              "  }\n",
              "\n",
              "  .colab-df-quickchart-complete:disabled,\n",
              "  .colab-df-quickchart-complete:disabled:hover {\n",
              "    background-color: var(--disabled-bg-color);\n",
              "    fill: var(--disabled-fill-color);\n",
              "    box-shadow: none;\n",
              "  }\n",
              "\n",
              "  .colab-df-spinner {\n",
              "    border: 2px solid var(--fill-color);\n",
              "    border-color: transparent;\n",
              "    border-bottom-color: var(--fill-color);\n",
              "    animation:\n",
              "      spin 1s steps(1) infinite;\n",
              "  }\n",
              "\n",
              "  @keyframes spin {\n",
              "    0% {\n",
              "      border-color: transparent;\n",
              "      border-bottom-color: var(--fill-color);\n",
              "      border-left-color: var(--fill-color);\n",
              "    }\n",
              "    20% {\n",
              "      border-color: transparent;\n",
              "      border-left-color: var(--fill-color);\n",
              "      border-top-color: var(--fill-color);\n",
              "    }\n",
              "    30% {\n",
              "      border-color: transparent;\n",
              "      border-left-color: var(--fill-color);\n",
              "      border-top-color: var(--fill-color);\n",
              "      border-right-color: var(--fill-color);\n",
              "    }\n",
              "    40% {\n",
              "      border-color: transparent;\n",
              "      border-right-color: var(--fill-color);\n",
              "      border-top-color: var(--fill-color);\n",
              "    }\n",
              "    60% {\n",
              "      border-color: transparent;\n",
              "      border-right-color: var(--fill-color);\n",
              "    }\n",
              "    80% {\n",
              "      border-color: transparent;\n",
              "      border-right-color: var(--fill-color);\n",
              "      border-bottom-color: var(--fill-color);\n",
              "    }\n",
              "    90% {\n",
              "      border-color: transparent;\n",
              "      border-bottom-color: var(--fill-color);\n",
              "    }\n",
              "  }\n",
              "</style>\n",
              "\n",
              "  <script>\n",
              "    async function quickchart(key) {\n",
              "      const quickchartButtonEl =\n",
              "        document.querySelector('#' + key + ' button');\n",
              "      quickchartButtonEl.disabled = true;  // To prevent multiple clicks.\n",
              "      quickchartButtonEl.classList.add('colab-df-spinner');\n",
              "      try {\n",
              "        const charts = await google.colab.kernel.invokeFunction(\n",
              "            'suggestCharts', [key], {});\n",
              "      } catch (error) {\n",
              "        console.error('Error during call to suggestCharts:', error);\n",
              "      }\n",
              "      quickchartButtonEl.classList.remove('colab-df-spinner');\n",
              "      quickchartButtonEl.classList.add('colab-df-quickchart-complete');\n",
              "    }\n",
              "    (() => {\n",
              "      let quickchartButtonEl =\n",
              "        document.querySelector('#df-6ad5a1f3-edee-4d02-a853-f6dc0f332b1c button');\n",
              "      quickchartButtonEl.style.display =\n",
              "        google.colab.kernel.accessAllowed ? 'block' : 'none';\n",
              "    })();\n",
              "  </script>\n",
              "</div>\n",
              "\n",
              "    </div>\n",
              "  </div>\n"
            ],
            "text/plain": [
              "            site1  site2  site3  site4  site5  site6  site7  site8  site9  \\\n",
              "session_id                                                                  \n",
              "21669          56     55      0      0      0      0      0      0      0   \n",
              "54843          56     55     56     55      0      0      0      0      0   \n",
              "77292         946    946    951    946    946    945    948    784    949   \n",
              "114021        945    948    949    948    945    946    947    945    946   \n",
              "146670        947    950    948    947    950    952    946    951    946   \n",
              "\n",
              "            site10  \n",
              "session_id          \n",
              "21669            0  \n",
              "54843            0  \n",
              "77292          946  \n",
              "114021         946  \n",
              "146670         947  "
            ]
          },
          "execution_count": 52,
          "metadata": {},
          "output_type": "execute_result"
        }
      ],
      "source": [
        "# Dataframe with indices of visited websites in session\n",
        "full_sites = full_df[sites]\n",
        "full_sites.head()"
      ]
    },
    {
      "cell_type": "markdown",
      "metadata": {
        "id": "y4w0YQPP71_4"
      },
      "source": [
        "Sessions are sequences of website indices, and data in this representation is useless for machine learning method (just think, what happens if we switched all ids of all websites).\n",
        "\n",
        "\n",
        "---\n",
        "\n",
        "\n",
        "\n",
        "---\n",
        "\n",
        "\n",
        "## Q1.2: Data Preparation (10pt)\n",
        "According to our hypothesis (Alice has favorite websites), we need to transform this dataframe so each website has a corresponding feature (column) and its value is equal to number of this website visits in the session.\n",
        "\n",
        "For the work with such matrices you can use `csr_matrix` function, check [documentation](https://docs.scipy.org/doc/scipy/reference/generated/scipy.sparse.csr_matrix.html) to understand what possible types of sparse matrices are, how to work with them and in which cases their usage is most effective."
      ]
    },
    {
      "cell_type": "code",
      "execution_count": null,
      "metadata": {
        "colab": {
          "base_uri": "https://localhost:8080/"
        },
        "id": "QqEzt7e060G_",
        "outputId": "76bce1bd-5899-4c4a-c63b-cab6452678eb"
      },
      "outputs": [
        {
          "name": "stdout",
          "output_type": "stream",
          "text": [
            "  (0, 55)\t1\n",
            "  (0, 56)\t1\n",
            "  (1, 55)\t2\n",
            "  (1, 56)\t2\n",
            "  (2, 784)\t1\n",
            "  (2, 945)\t1\n",
            "  (2, 946)\t5\n",
            "  (2, 948)\t1\n",
            "  (2, 949)\t1\n",
            "  (2, 951)\t1\n",
            "  (3, 945)\t3\n",
            "  (3, 946)\t3\n",
            "  (3, 947)\t1\n",
            "  (3, 948)\t2\n",
            "  (3, 949)\t1\n",
            "  (4, 946)\t2\n",
            "  (4, 947)\t3\n",
            "  (4, 948)\t1\n",
            "  (4, 950)\t2\n",
            "  (4, 951)\t1\n",
            "  (4, 952)\t1\n",
            "  (5, 946)\t3\n",
            "  (5, 947)\t3\n",
            "  (5, 952)\t1\n",
            "  (5, 953)\t2\n",
            "  :\t:\n",
            "  (336354, 300)\t3\n",
            "  (336354, 302)\t3\n",
            "  (336354, 1216)\t1\n",
            "  (336354, 1218)\t1\n",
            "  (336354, 1221)\t1\n",
            "  (336354, 1222)\t1\n",
            "  (336355, 21)\t1\n",
            "  (336355, 22)\t1\n",
            "  (336355, 23)\t1\n",
            "  (336355, 29)\t1\n",
            "  (336355, 30)\t1\n",
            "  (336355, 33)\t1\n",
            "  (336355, 35)\t1\n",
            "  (336355, 37)\t1\n",
            "  (336355, 6779)\t1\n",
            "  (336355, 6780)\t1\n",
            "  (336356, 21)\t3\n",
            "  (336356, 23)\t2\n",
            "  (336356, 804)\t1\n",
            "  (336356, 894)\t1\n",
            "  (336356, 961)\t1\n",
            "  (336356, 3350)\t1\n",
            "  (336356, 5828)\t1\n",
            "  (336357, 21)\t1\n",
            "  (336357, 1098)\t9\n"
          ]
        }
      ],
      "source": [
        "import numpy as np\n",
        "from scipy.sparse import csr_matrix\n",
        "\n",
        "# Flatten the session data to create a long array of site visits\n",
        "sites_flt = full_sites.values.flatten()\n",
        "\n",
        "# session indices repeated for each site in the session\n",
        "session_ids = np.repeat(np.arange(full_sites.shape[0]), full_sites.shape[1])\n",
        "na_sites = sites_flt > 0\n",
        "filtered_sites = sites_flt[na_sites]\n",
        "filtered_session_ids = session_ids[na_sites]\n",
        "\n",
        "data = np.ones(filtered_sites.shape[0], dtype=int)\n",
        "no_columns = filtered_sites.max() + 1\n",
        "\n",
        "website_matrix = csr_matrix((data, (filtered_session_ids, filtered_sites)), shape=(full_sites.shape[0], no_columns))\n",
        "\n",
        "print(website_matrix)"
      ]
    },
    {
      "cell_type": "markdown",
      "metadata": {
        "id": "crLFVjgE9CA9"
      },
      "source": [
        "\n",
        "\n",
        "---\n",
        "\n",
        "\n",
        "\n",
        "\n",
        "\n",
        "---\n",
        "\n",
        "\n",
        "\n",
        "## Q1.3: First Try: Logistic Regression (10pt)\n",
        "Let us build our first model, using [logistic regression](http://scikit-learn.org/stable/modules/generated/sklearn.linear_model.LogisticRegression.html) implementation from ` Sklearn` with default parameters. We will use the first 90% of the data for training (the training data set is sorted by time), and the remaining 10% for validation.\n",
        "\n",
        "- Let's write a simple function that returns the quality of the model and then train our first classifier. What is the result on the validation set? You will need to use it in the later questions.\n",
        "\n",
        "- To make a prediction on the test data set **we need to train the model again on the entire training data set** (until this moment, our model used only part of the data for training), which will increase its generalizing ability. You don't need to calculate the score for testing set since there is no target value.\n"
      ]
    },
    {
      "cell_type": "code",
      "execution_count": null,
      "metadata": {
        "colab": {
          "base_uri": "https://localhost:8080/"
        },
        "id": "qNuVMNCy_eub",
        "outputId": "547d9ddf-031f-4e40-cd6c-e9cecc46f131"
      },
      "outputs": [
        {
          "name": "stdout",
          "output_type": "stream",
          "text": [
            "253561 253561\n",
            "CV scores: [0.89429824 0.61148265 0.80430724 0.90752612 0.76263128 0.86517737\n",
            " 0.88707994 0.82651241 0.86297279 0.9202949 ]\n",
            "CV mean: 0.8342, CV std: 0.0876\n",
            "ROC AUC score on the validation set: 0.9195\n"
          ]
        }
      ],
      "source": [
        "from sklearn.linear_model import LogisticRegression\n",
        "from sklearn.metrics import roc_auc_score\n",
        "from sklearn.model_selection import TimeSeriesSplit, cross_val_score\n",
        "import numpy as np\n",
        "\n",
        "def train_model(X, y, C=1.0, seed=17, ratio=0.9):\n",
        "    # TimeSeriesSplit for cross-validation\n",
        "    time_split = TimeSeriesSplit(n_splits=10)\n",
        "\n",
        "    # Calculate the split index based on the ratio\n",
        "    split = int(np.round(X.shape[0] * ratio))\n",
        "\n",
        "    # Fit the model on the training set\n",
        "    logit = LogisticRegression(C=C, random_state=seed, solver='liblinear')\n",
        "    logit.fit(X[:split], y[:split])\n",
        "\n",
        "    # Predict on the validation set\n",
        "    y_pred = logit.predict_proba(X[split:])[:, 1]\n",
        "\n",
        "    # Perform cross-validation\n",
        "    cv_scores = cross_val_score(logit, X[:split], y[:split], cv=time_split, scoring='roc_auc')\n",
        "    print('CV scores:', cv_scores)\n",
        "    print('CV mean: {:.4f}, CV std: {:.4f}'.format(cv_scores.mean(), cv_scores.std()))\n",
        "\n",
        "    # ROC AUC score for the validation part\n",
        "    return roc_auc_score(y[split:], y_pred)\n",
        "\n",
        "X_train = website_matrix[:idx_split]\n",
        "y_train = train_df['target'].iloc[:idx_split]\n",
        "\n",
        "print(X_train.shape[0], len(y_train))\n",
        "\n",
        "# Model evaluation\n",
        "auc_score = train_model(X_train, y_train, C=1.0, seed=17, ratio=0.9)\n",
        "print(f\"ROC AUC score on the validation set: {auc_score:.4f}\")"
      ]
    },
    {
      "cell_type": "code",
      "execution_count": null,
      "metadata": {
        "colab": {
          "base_uri": "https://localhost:8080/",
          "height": 74
        },
        "id": "FU7_XSxeI8mK",
        "outputId": "ccab14bc-ba5e-4658-a4a7-51f580bf870b"
      },
      "outputs": [
        {
          "data": {
            "text/html": [
              "<style>#sk-container-id-2 {color: black;background-color: white;}#sk-container-id-2 pre{padding: 0;}#sk-container-id-2 div.sk-toggleable {background-color: white;}#sk-container-id-2 label.sk-toggleable__label {cursor: pointer;display: block;width: 100%;margin-bottom: 0;padding: 0.3em;box-sizing: border-box;text-align: center;}#sk-container-id-2 label.sk-toggleable__label-arrow:before {content: \"▸\";float: left;margin-right: 0.25em;color: #696969;}#sk-container-id-2 label.sk-toggleable__label-arrow:hover:before {color: black;}#sk-container-id-2 div.sk-estimator:hover label.sk-toggleable__label-arrow:before {color: black;}#sk-container-id-2 div.sk-toggleable__content {max-height: 0;max-width: 0;overflow: hidden;text-align: left;background-color: #f0f8ff;}#sk-container-id-2 div.sk-toggleable__content pre {margin: 0.2em;color: black;border-radius: 0.25em;background-color: #f0f8ff;}#sk-container-id-2 input.sk-toggleable__control:checked~div.sk-toggleable__content {max-height: 200px;max-width: 100%;overflow: auto;}#sk-container-id-2 input.sk-toggleable__control:checked~label.sk-toggleable__label-arrow:before {content: \"▾\";}#sk-container-id-2 div.sk-estimator input.sk-toggleable__control:checked~label.sk-toggleable__label {background-color: #d4ebff;}#sk-container-id-2 div.sk-label input.sk-toggleable__control:checked~label.sk-toggleable__label {background-color: #d4ebff;}#sk-container-id-2 input.sk-hidden--visually {border: 0;clip: rect(1px 1px 1px 1px);clip: rect(1px, 1px, 1px, 1px);height: 1px;margin: -1px;overflow: hidden;padding: 0;position: absolute;width: 1px;}#sk-container-id-2 div.sk-estimator {font-family: monospace;background-color: #f0f8ff;border: 1px dotted black;border-radius: 0.25em;box-sizing: border-box;margin-bottom: 0.5em;}#sk-container-id-2 div.sk-estimator:hover {background-color: #d4ebff;}#sk-container-id-2 div.sk-parallel-item::after {content: \"\";width: 100%;border-bottom: 1px solid gray;flex-grow: 1;}#sk-container-id-2 div.sk-label:hover label.sk-toggleable__label {background-color: #d4ebff;}#sk-container-id-2 div.sk-serial::before {content: \"\";position: absolute;border-left: 1px solid gray;box-sizing: border-box;top: 0;bottom: 0;left: 50%;z-index: 0;}#sk-container-id-2 div.sk-serial {display: flex;flex-direction: column;align-items: center;background-color: white;padding-right: 0.2em;padding-left: 0.2em;position: relative;}#sk-container-id-2 div.sk-item {position: relative;z-index: 1;}#sk-container-id-2 div.sk-parallel {display: flex;align-items: stretch;justify-content: center;background-color: white;position: relative;}#sk-container-id-2 div.sk-item::before, #sk-container-id-2 div.sk-parallel-item::before {content: \"\";position: absolute;border-left: 1px solid gray;box-sizing: border-box;top: 0;bottom: 0;left: 50%;z-index: -1;}#sk-container-id-2 div.sk-parallel-item {display: flex;flex-direction: column;z-index: 1;position: relative;background-color: white;}#sk-container-id-2 div.sk-parallel-item:first-child::after {align-self: flex-end;width: 50%;}#sk-container-id-2 div.sk-parallel-item:last-child::after {align-self: flex-start;width: 50%;}#sk-container-id-2 div.sk-parallel-item:only-child::after {width: 0;}#sk-container-id-2 div.sk-dashed-wrapped {border: 1px dashed gray;margin: 0 0.4em 0.5em 0.4em;box-sizing: border-box;padding-bottom: 0.4em;background-color: white;}#sk-container-id-2 div.sk-label label {font-family: monospace;font-weight: bold;display: inline-block;line-height: 1.2em;}#sk-container-id-2 div.sk-label-container {text-align: center;}#sk-container-id-2 div.sk-container {/* jupyter's `normalize.less` sets `[hidden] { display: none; }` but bootstrap.min.css set `[hidden] { display: none !important; }` so we also need the `!important` here to be able to override the default hidden behavior on the sphinx rendered scikit-learn.org. See: https://github.com/scikit-learn/scikit-learn/issues/21755 */display: inline-block !important;position: relative;}#sk-container-id-2 div.sk-text-repr-fallback {display: none;}</style><div id=\"sk-container-id-2\" class=\"sk-top-container\"><div class=\"sk-text-repr-fallback\"><pre>LogisticRegression(max_iter=1000, random_state=17, solver=&#x27;liblinear&#x27;)</pre><b>In a Jupyter environment, please rerun this cell to show the HTML representation or trust the notebook. <br />On GitHub, the HTML representation is unable to render, please try loading this page with nbviewer.org.</b></div><div class=\"sk-container\" hidden><div class=\"sk-item\"><div class=\"sk-estimator sk-toggleable\"><input class=\"sk-toggleable__control sk-hidden--visually\" id=\"sk-estimator-id-2\" type=\"checkbox\" checked><label for=\"sk-estimator-id-2\" class=\"sk-toggleable__label sk-toggleable__label-arrow\">LogisticRegression</label><div class=\"sk-toggleable__content\"><pre>LogisticRegression(max_iter=1000, random_state=17, solver=&#x27;liblinear&#x27;)</pre></div></div></div></div></div>"
            ],
            "text/plain": [
              "LogisticRegression(max_iter=1000, random_state=17, solver='liblinear')"
            ]
          },
          "execution_count": 55,
          "metadata": {},
          "output_type": "execute_result"
        }
      ],
      "source": [
        "# Entire training dataset\n",
        "logit_full = LogisticRegression(C=1.0, random_state=17, solver='liblinear', max_iter=1000)\n",
        "logit_full.fit(website_matrix[:len(train_df['target'])], train_df['target'])"
      ]
    },
    {
      "cell_type": "markdown",
      "metadata": {
        "id": "zt546yaiL5bb"
      },
      "source": [
        "### **Discuss your findings**:\n",
        "The logistic regression model demonstrates strong performance in distinguishing whether a session belongs to Alice due to Validation ROC AUC score of 0.9195. This indicates a high level of disparity ability regarding the visited websites' patterns. However, while the high ROC AUC score is good, it can be a potential overfitting.\n",
        "So we used the cross-validation, with a mean ROC AUC of 0.8342 and a standard deviation of 0.0876, shows consistent model performance across different time splits.\n"
      ]
    },
    {
      "cell_type": "markdown",
      "metadata": {
        "id": "uII2B6-K-SUz"
      },
      "source": [
        "\n",
        "\n",
        "\n",
        "---\n",
        "\n",
        "\n",
        "\n",
        "---\n",
        "\n",
        "\n",
        "## Q1.4: Second Try: Feature Engineering (10pt)\n",
        "Now we are going to improve the quality of our model by engineering new features.\n",
        "\n",
        "- Create a feature that will be a number in YYYYMM format from the date when the session was held, for example 201407 -- year 2014 and 7th month.\n",
        "\n",
        "- Plot the graph of the number of Alice sessions versus the new feature, start_month. Discuss the result.\n",
        "\n",
        "- In this way, we have an illustration and thoughts about the usefulness of the new feature, add it to the training sample and check the quality of the new model. What is your score on the validation set? You should find the quality of the model has decreased significantly.\n",
        "\n",
        "- You need to apply the standarization on this new feature and train the model again. What is your score on the validation set this time?\n",
        "\n",
        "**Hint:** the graph will be more explicit if you treat `start_month` as a categorical ordinal variable"
      ]
    },
    {
      "cell_type": "code",
      "execution_count": null,
      "metadata": {
        "colab": {
          "base_uri": "https://localhost:8080/",
          "height": 613
        },
        "id": "Frzms-cS5cY9",
        "outputId": "a1e434c6-a6ad-448b-ae72-4a5c024a97fe"
      },
      "outputs": [
        {
          "data": {
            "image/png": "[encoded data removed]",
            "text/plain": [
              "<Figure size 1200x600 with 1 Axes>"
            ]
          },
          "metadata": {
            "image/png": {
              "height": 596,
              "width": 1014
            }
          },
          "output_type": "display_data"
        }
      ],
      "source": [
        "# Added 'start_month' feature\n",
        "train_df['start_month'] = train_df['time1'].dt.strftime('%Y%m').astype(int)\n",
        "import matplotlib.pyplot as plt\n",
        "import seaborn as sns\n",
        "\n",
        "alice_sessions_by_month = train_df[train_df['target'] == 1].groupby('start_month').size()\n",
        "\n",
        "# Plot\n",
        "plt.figure(figsize=(12, 6))\n",
        "alice_sessions_by_month.plot(kind='bar')\n",
        "plt.title('Number of Alice Sessions by Start Month')\n",
        "plt.xlabel('Start Month (YYYYMM)')\n",
        "plt.ylabel('Number of Sessions')\n",
        "plt.show()"
      ]
    },
    {
      "cell_type": "markdown",
      "metadata": {
        "id": "45y-Q5XWUpiT"
      },
      "source": [
        "Since September of 2013 the number of sessions has increased by 4 times November being at the top later there was a dip for two months and again it spike giving average of nearly 300 sessions for 14 months."
      ]
    },
    {
      "cell_type": "code",
      "execution_count": null,
      "metadata": {
        "id": "cQVy5_RRJyX1"
      },
      "outputs": [],
      "source": [
        "from sklearn.model_selection import train_test_split\n",
        "from sklearn.preprocessing import StandardScaler\n",
        "from sklearn.linear_model import LogisticRegression\n",
        "from sklearn.metrics import roc_auc_score\n",
        "from scipy.sparse import hstack\n",
        "idx_split = int(0.9 * train_df.shape[0])\n",
        "y_train = train_df['target'][:idx_split]\n",
        "\n",
        "\n",
        "start_month_matrix = csr_matrix(train_df[['start_month']][:idx_split].values)\n",
        "web_start_month = hstack([website_matrix[:idx_split, :], start_month_matrix])"
      ]
    },
    {
      "cell_type": "code",
      "execution_count": null,
      "metadata": {
        "colab": {
          "base_uri": "https://localhost:8080/"
        },
        "id": "AoOeCMJHNr-n",
        "outputId": "74cafad5-6469-4de2-8986-191d50878d69"
      },
      "outputs": [
        {
          "name": "stdout",
          "output_type": "stream",
          "text": [
            "CV scores: [0.73034267 0.56123364 0.75223066 0.6596136  0.86369095 0.68522758\n",
            " 0.7190611  0.84254887 0.66240736 0.77885761]\n",
            "CV mean: 0.7255, CV std: 0.0856\n",
            "ROC AUC score: 0.4105799648506151\n"
          ]
        }
      ],
      "source": [
        "score = train_model(web_start_month, y_train)\n",
        "print(f\"ROC AUC score: {score}\")"
      ]
    },
    {
      "cell_type": "code",
      "execution_count": null,
      "metadata": {
        "id": "YgJTw2LDLWR8"
      },
      "outputs": [],
      "source": [
        "from sklearn.preprocessing import StandardScaler\n",
        "scaler = StandardScaler()\n",
        "start_month_scaled = scaler.fit_transform(train_df[['start_month']][:idx_split].values)\n",
        "start_month_web_scaled = csr_matrix(start_month_scaled)\n",
        "web_start_month_scaled = hstack([website_matrix[:idx_split, :], start_month_web_scaled])\n"
      ]
    },
    {
      "cell_type": "code",
      "execution_count": null,
      "metadata": {
        "colab": {
          "base_uri": "https://localhost:8080/"
        },
        "id": "xynmqeMxNgIM",
        "outputId": "cbebcf00-0e4a-4e7b-f392-09b5d4d2c38d"
      },
      "outputs": [
        {
          "name": "stdout",
          "output_type": "stream",
          "text": [
            "CV scores: [0.65729421 0.75659415 0.67031128 0.86271301 0.94671867 0.84081111\n",
            " 0.84565823 0.93766625 0.85337977 0.86826057]\n",
            "CV mean: 0.8239, CV std: 0.0943\n",
            "ROC AUC score with standardization: 0.9204525483304042\n"
          ]
        }
      ],
      "source": [
        "#Model using the standardized features\n",
        "score_after_scaling = train_model(web_start_month_scaled, y_train)\n",
        "print(f\"ROC AUC score with standardization: {score_after_scaling}\")"
      ]
    },
    {
      "cell_type": "markdown",
      "metadata": {
        "id": "DsEzj7wGNAF3"
      },
      "source": [
        "### **Discuss your findings:**\n",
        "Yes start_month feature, provided lower ROC AUC score initially without standardization of 0.4106, showing that the model's ability to distinguish between Alice's sessions and others was not related to start month that could be due to scale disparities between features. However, upon standardizing the start_month feature, the ROC AUC score significantly improved to 0.9205, indicating a much better model performance.This highlighted the potential of standardization in improving model accuracy and reliability.\n",
        "\n",
        "\n",
        "\n",
        "\n",
        "\n"
      ]
    },
    {
      "cell_type": "markdown",
      "metadata": {
        "id": "m1p3jpyAAtii"
      },
      "source": [
        "\n",
        "\n",
        "\n",
        "---\n",
        "\n",
        "\n",
        "\n",
        "---\n",
        "\n",
        "\n",
        "## Q1.5: Third Try: Add more features? (10pt)\n",
        "- Add to the training set a new feature \"n_unique_sites\" – the number of the unique web-sites in a session. Calculate how the quality on the validation set has changed. Shall we add this feature?\n",
        "\n",
        "- Add two new features: start_hour and morning. Calculate the metric. Which of these features gives an improvement.\n",
        "\n",
        "The `start_hour` feature is the hour at which the session started (from 0 to 23), and the binary feature `morning` is equal to 1 if the session started in the morning and 0 if the session started later (we assume that morning means `start_hour` is equal to 11 or less).\n",
        "\n",
        "Will you scale the new features? Make your assumptions and test them in practice."
      ]
    },
    {
      "cell_type": "code",
      "execution_count": null,
      "metadata": {
        "id": "RY4aSE67A5Wy"
      },
      "outputs": [],
      "source": [
        "train_df['n_unique_sites'] = train_df[sites].apply(lambda x: len(set(x) - {0}), axis=1)"
      ]
    },
    {
      "cell_type": "code",
      "execution_count": null,
      "metadata": {
        "id": "tDJdDjoTRLWu"
      },
      "outputs": [],
      "source": [
        "# Define start hour from 'time1'\n",
        "train_df['start_hour'] = train_df['time1'].dt.hour\n",
        "\n",
        "# Add 'morning' feature as a binary feature with start hour <= 11\n",
        "train_df['morning'] = (train_df['start_hour'] <= 11).astype(int)"
      ]
    },
    {
      "cell_type": "code",
      "execution_count": null,
      "metadata": {
        "id": "0zYzCgqiOyyy"
      },
      "outputs": [],
      "source": [
        "from sklearn.preprocessing import StandardScaler\n",
        "from scipy.sparse import hstack\n",
        "\n",
        "scaler = StandardScaler()\n",
        "\n",
        "# Add 'n_unique_sites'\n",
        "n_unique_sites_scaled = scaler.fit_transform(train_df[['n_unique_sites']][:idx_split].values)  # Scale if decided\n",
        "X_with_n_unique = hstack([website_matrix[:idx_split, :], csr_matrix(n_unique_sites_scaled)])  # Add to feature set\n",
        "\n",
        "# Add 'start_hour'\n",
        "start_hour_scaled = scaler.fit_transform(train_df[['start_hour']][:idx_split].values)  # Scale if decided\n",
        "X_with_start_hour = hstack([website_matrix[:idx_split, :], csr_matrix(start_hour_scaled)])  # Add to feature set\n",
        "\n",
        "# Add 'morning'\n",
        "X_with_morning = hstack([website_matrix[:idx_split, :], csr_matrix(train_df[['morning']][:idx_split].values)])"
      ]
    },
    {
      "cell_type": "code",
      "execution_count": null,
      "metadata": {
        "colab": {
          "base_uri": "https://localhost:8080/"
        },
        "id": "Aa7CjjKnPArO",
        "outputId": "99635279-dd44-4b24-aec1-ab4b511d3cbe"
      },
      "outputs": [
        {
          "name": "stdout",
          "output_type": "stream",
          "text": [
            "CV scores: [0.63336323 0.75006139 0.67551644 0.8556237  0.9351965  0.83514693\n",
            " 0.84872501 0.92910102 0.83744084 0.86173339]\n",
            "CV mean: 0.8162, CV std: 0.0949\n",
            "CV scores: [0.66288629 0.78090706 0.70843714 0.92770522 0.96183851 0.86938449\n",
            " 0.91431955 0.95893544 0.86972944 0.91114673]\n",
            "CV mean: 0.8565, CV std: 0.0992\n",
            "CV scores: [0.61488786 0.83036805 0.75655743 0.9243742  0.95977427 0.90111257\n",
            " 0.92463904 0.95393382 0.94149478 0.92544872]\n",
            "CV mean: 0.8733, CV std: 0.1047\n",
            "ROC AUC with 'n_unique_sites': 0.9120\n",
            "ROC AUC with 'start_hour': 0.9556\n",
            "ROC AUC with 'morning': 0.9468\n"
          ]
        }
      ],
      "source": [
        "# Evaluate model with 'n_unique_sites'\n",
        "auc_with_n_unique = train_model(X_with_n_unique, y_train)\n",
        "\n",
        "# Evaluate model with 'start_hour'\n",
        "auc_with_start_hour = train_model(X_with_start_hour, y_train)\n",
        "\n",
        "# Evaluate model with 'morning'\n",
        "auc_with_morning = train_model(X_with_morning, y_train)\n",
        "\n",
        "# Print the ROC AUC scores\n",
        "print(f\"ROC AUC with 'n_unique_sites': {auc_with_n_unique:.4f}\")\n",
        "print(f\"ROC AUC with 'start_hour': {auc_with_start_hour:.4f}\")\n",
        "print(f\"ROC AUC with 'morning': {auc_with_morning:.4f}\")"
      ]
    },
    {
      "cell_type": "markdown",
      "metadata": {
        "id": "p20595ILSh05"
      },
      "source": [
        "n_unique_sites: Improved the model's ability to discriminate between Alice's sessions and those of other users. The ROC AUC score for this feature is 0.9120, which is quite high and showcases that the diversity of sites visited in a session is a significant indicator of the user's identity. The cross-validation mean score of 0.8162, with a standard deviation of 0.0949, indicates consistent performance across different time folds with some variability.\n",
        "\n",
        "start_hour: An ROC AUC score of 0.9556 indicates that the time of day when the session starts is highly indicative of whether it belongs to Alice. The cross-validation mean score is 0.8565 which is higher than n_unique_sites shows better consistency across different time segments, though the standard deviation remains high.\n",
        "\n",
        "morning: This feature indicates whether the session started in the morning (hour <= 11) has also significantly improved model performance with an ROC AUC score of 0.9468 suggesting that the period of the day i.e. morning vs. non-morning is a strong predictor of the session's owner."
      ]
    },
    {
      "cell_type": "markdown",
      "metadata": {
        "id": "GpGWBDQL_5k2"
      },
      "source": [
        "Just scaling start_hour to check the model."
      ]
    },
    {
      "cell_type": "code",
      "execution_count": null,
      "metadata": {
        "id": "nyFpB6n0TYwS"
      },
      "outputs": [],
      "source": [
        "from sklearn.preprocessing import StandardScaler\n",
        "from scipy.sparse import hstack, csr_matrix\n",
        "\n",
        "# Initialize the StandardScaler\n",
        "#scaler = StandardScaler()\n",
        "\n",
        "#start_hour_scaled = scaler.fit_transform(train_df[['start_hour']][:idx_split].values)\n",
        "#start_hour_sparse = csr_matrix(start_hour_scaled)\n",
        "\n",
        "# Adding 'start_hour' in website_matrix\n",
        "#X_with_start_hour = hstack([website_matrix[:idx_split, :], start_hour_sparse])"
      ]
    },
    {
      "cell_type": "code",
      "execution_count": null,
      "metadata": {
        "colab": {
          "base_uri": "https://localhost:8080/"
        },
        "id": "OAGX-R3GToLQ",
        "outputId": "17e56826-0a3b-4517-9331-4f1b8fbcb049"
      },
      "outputs": [
        {
          "name": "stdout",
          "output_type": "stream",
          "text": [
            "Validation ROC AUC Score after scaling 'start_hour': 0.9784\n"
          ]
        }
      ],
      "source": [
        "#y_train = train_df['target'][:idx_split]\n",
        "#from sklearn.linear_model import LogisticRegression\n",
        "#from sklearn.metrics import roc_auc_score\n",
        "\n",
        "#X_train, X_val, y_train, y_val = train_test_split(X_with_start_hour, y_train, test_size=0.10, random_state=42)\n",
        "#model = LogisticRegression(max_iter=1000, random_state=42)\n",
        "#model.fit(X_train, y_train)\n",
        "\n",
        "# Predict on the validation set\n",
        "#y_val_pred_proba = model.predict_proba(X_val)[:, 1]  # Get probabilities for the positive class\n",
        "\n",
        "# ROC AUC score\n",
        "#roc_auc = roc_auc_score(y_val, y_val_pred_proba)\n",
        "#print(f\"Validation ROC AUC Score after scaling 'start_hour': {roc_auc:.4f}\")"
      ]
    },
    {
      "cell_type": "markdown",
      "metadata": {
        "id": "HDWNa6dSABqB"
      },
      "source": [
        "This indicates that start_hour needed to be scaled to increase the model performance implying that the time at which a session starts after when standardized, is a crucial indicator for identifying Alice's browsing patterns."
      ]
    },
    {
      "cell_type": "markdown",
      "metadata": {
        "id": "fKMPAegUAdos"
      },
      "source": [
        "Lets scale add the features to check how the model improves"
      ]
    },
    {
      "cell_type": "code",
      "execution_count": null,
      "metadata": {
        "id": "L4NOpvJ4Tbrk"
      },
      "outputs": [],
      "source": [
        "from sklearn.preprocessing import StandardScaler\n",
        "from scipy.sparse import hstack, csr_matrix\n",
        "\n",
        "scaler = StandardScaler()\n",
        "\n",
        "# Scale 'n_unique_sites'\n",
        "n_unique_sites_scaled = scaler.fit_transform(train_df[['n_unique_sites']][:idx_split].values)\n",
        "n_unique_sites_sparse = csr_matrix(n_unique_sites_scaled)\n",
        "\n",
        "# Scale 'start_hour'\n",
        "start_hour_scaled = scaler.fit_transform(train_df[['start_hour']][:idx_split].values)\n",
        "start_hour_sparse = csr_matrix(start_hour_scaled)\n",
        "\n",
        "# Scale 'morning'\n",
        "morning_scaled = scaler.fit_transform(train_df[['morning']][:idx_split].values)\n",
        "morning_sparse = csr_matrix(morning_scaled)\n",
        "\n",
        "# Combine the original features in website_matrix with each of the new, scaled features\n",
        "X_with_all_new = hstack([\n",
        "    website_matrix[:idx_split, :],\n",
        "    n_unique_sites_sparse,\n",
        "    start_hour_sparse,\n",
        "    morning_sparse\n",
        "])\n"
      ]
    },
    {
      "cell_type": "code",
      "execution_count": null,
      "metadata": {
        "colab": {
          "base_uri": "https://localhost:8080/"
        },
        "id": "LC7DAvZfQ21A",
        "outputId": "fba8baa3-af4f-411b-9a94-05c027e97a9b"
      },
      "outputs": [
        {
          "name": "stdout",
          "output_type": "stream",
          "text": [
            "CV scores: [0.67737511 0.74801492 0.72979044 0.93318969 0.9578843  0.89516717\n",
            " 0.93361836 0.9593296  0.91321547 0.92571281]\n",
            "CV mean: 0.8673, CV std: 0.1005\n",
            "ROC AUC score with all new scaled features: 0.9523\n"
          ]
        }
      ],
      "source": [
        "auc_score_with_all_new = train_model(X_with_all_new, y_train)\n",
        "print(f\"ROC AUC score with all new scaled features: {auc_score_with_all_new:.4f}\")"
      ]
    },
    {
      "cell_type": "markdown",
      "metadata": {
        "id": "rLi87fK0Vgu9"
      },
      "source": [
        "This indicates that for this logistic regression model the scaling of start_hour, n_unique_sites_sparse, morning_sparse does have a significant impact in improvising the ROC AUC score i.e. the quality of the model."
      ]
    },
    {
      "cell_type": "markdown",
      "metadata": {
        "id": "wCIdbzrDNnio"
      },
      "source": [
        "### **Discuss your findings:**\n",
        "\n",
        "The ROC AUC score of 0.9523 with all new scaled features is exceptionally high implying that the logistic regression model is highly effective at distinguishing between Alice's sessions and those of other users. This helps us achieve ROC AUC scores closer to 1.0 signifying better model performance."
      ]
    },
    {
      "cell_type": "markdown",
      "metadata": {
        "id": "Up8W4ofDBVOo"
      },
      "source": [
        "\n",
        "\n",
        "---\n",
        "\n",
        "\n",
        "\n",
        "---\n",
        "\n",
        "\n",
        "\n",
        "## Q1.6 Last Try: Regularization and Parameter Tuning (10pt)\n",
        "We have introduced features that improve the quality of our model in comparison with the first baseline. Can we do even better? After we have changed the training and test sets, it almost always makes sense to search for the optimal hyperparameters - the parameters of the model that do not change during training.\n",
        "\n",
        "In the logistic regression that we use, the weights of each feature are changing, and we find their optimal values during training; meanwhile, the regularization parameter remains constant. This is the hyperparameter that we are going to optimize now.\n",
        "\n",
        "We will try to beat the default parameter value $C=1$ by optimizing the regularization parameter. We will take a list of possible values of $C$ and calculate the quality metric on the validation set for each of $C$-values.\n",
        "\n",
        "What is the value of parameter $C$ that corresponds to the highest model.\n"
      ]
    },
    {
      "cell_type": "code",
      "execution_count": null,
      "metadata": {
        "id": "WvmSAugg3fZp"
      },
      "outputs": [],
      "source": [
        "import numpy as np\n",
        "C_values = np.logspace(-4, 4, 20)  # 20 values between 10^-4 and 10^4"
      ]
    },
    {
      "cell_type": "code",
      "execution_count": null,
      "metadata": {
        "colab": {
          "base_uri": "https://localhost:8080/"
        },
        "id": "y80JIY3sdgQL",
        "outputId": "3ca4c7a0-06da-4e75-9106-7ededb52cae0"
      },
      "outputs": [
        {
          "name": "stdout",
          "output_type": "stream",
          "text": [
            " X_with_all_new shape: (228204, 48375)\n",
            " y_train shape: (228204,)\n"
          ]
        }
      ],
      "source": [
        "X_with_all_new_corrected = X_with_all_new[:idx_split]\n",
        "y_train_corrected = train_df['target'][:idx_split]\n",
        "\n",
        "print(\" X_with_all_new shape:\", X_with_all_new_corrected.shape)\n",
        "print(\" y_train shape:\", y_train_corrected.shape)\n"
      ]
    },
    {
      "cell_type": "code",
      "execution_count": null,
      "metadata": {
        "colab": {
          "base_uri": "https://localhost:8080/"
        },
        "id": "DuHGFMMVqH2d",
        "outputId": "ae3146f7-05f4-4e32-cccc-ad420a4cd7d4"
      },
      "outputs": [
        {
          "name": "stdout",
          "output_type": "stream",
          "text": [
            "Best C: 2.154434690031882 with best ROC AUC: 0.9019\n"
          ]
        }
      ],
      "source": [
        "from sklearn.model_selection import GridSearchCV\n",
        "from sklearn.linear_model import LogisticRegression\n",
        "\n",
        "param_grid = {'C': np.logspace(-3, 3, 10)}\n",
        "\n",
        "grid_search = GridSearchCV(LogisticRegression(max_iter=1000, random_state=42),\n",
        "                           param_grid,\n",
        "                           scoring='roc_auc',\n",
        "                           cv=3,  # Reduced from 5 to 3 folds to reduce runtime\n",
        "                           n_jobs=4)\n",
        "\n",
        "# Fit the model\n",
        "grid_search.fit(X_with_all_new_corrected, y_train_corrected)  # Using the split training set for faster execution\n",
        "\n",
        "# Get the best parameters and the best ROC AUC score\n",
        "best_c = grid_search.best_params_['C']\n",
        "best_roc_auc = grid_search.best_score_\n",
        "\n",
        "print(f\"Best C: {best_c} with best ROC AUC: {best_roc_auc:.4f}\")"
      ]
    },
    {
      "cell_type": "code",
      "execution_count": null,
      "metadata": {
        "id": "Q2QiBkUwV2sU"
      },
      "outputs": [],
      "source": [
        "X_train_full = website_matrix[:idx_split]\n",
        "y_train_full = y_train"
      ]
    },
    {
      "cell_type": "markdown",
      "metadata": {
        "id": "bWqJ_Pw1Nrw2"
      },
      "source": [
        "### **Discuss your findings:**\n",
        "The C in our logistic regression model has successfully identified an optimal value at approximately 2.1544 differing from the default of 1. This adjustment in regularization has led to a notable improvement in the model's performance with the best ROC AUC score of 0.9019 indicating a strong predictive ability, particularly in distinguishing between Alice's web sessions and those of other users. This shows the significance of hyperparameter tuning in enhancing model accuracy."
      ]
    },
    {
      "cell_type": "markdown",
      "metadata": {
        "id": "jzmu4BRz5B4N"
      },
      "source": [
        "# Q2: Freeride (40pt)\n",
        "**This problem can be used to present in showcase day as extra credits.**\n",
        "\n",
        "In this part, you'll need to beat the 2 baselines mentioned in the class. No more step-by-step instructions.\n",
        "\n",
        "Here are a few tips for finding new features: think about what you can come up with using existing features, try multiplying or dividing two of them, justify or decline your hypotheses with plots, extract useful information from time series data (time1 ... time10), do not hesitate to convert an existing feature (for example, take a logarithm), etc. We encourage you to try new ideas and models - it's fun!"
      ]
    },
    {
      "cell_type": "code",
      "execution_count": null,
      "metadata": {
        "id": "ZsFMRbIr5zss"
      },
      "outputs": [],
      "source": [
        "import numpy as np\n",
        "import pandas as pd\n",
        "import seaborn as sns\n",
        "import matplotlib.pyplot as plt\n",
        "from sklearn.model_selection import train_test_split, TimeSeriesSplit, cross_val_score\n",
        "from sklearn.preprocessing import StandardScaler\n",
        "from sklearn.feature_extraction.text import CountVectorizer, TfidfVectorizer\n",
        "from sklearn.linear_model import LogisticRegression\n",
        "from sklearn.metrics import roc_auc_score\n",
        "import lightgbm as lgb\n",
        "import xgboost as xgb\n",
        "from scipy.sparse import hstack"
      ]
    },
    {
      "cell_type": "markdown",
      "metadata": {
        "id": "1pxMNS9viOOh"
      },
      "source": [
        "1. Session Duration Feature: The total duration of each session (difference between time10 and time1) this would indicate user engagement or specific user behavior patterns. And lets use the C value from the Regularization and Parameter Tuning"
      ]
    },
    {
      "cell_type": "code",
      "execution_count": null,
      "metadata": {
        "id": "NUawPBw2yWku"
      },
      "outputs": [],
      "source": [
        "#session duration\n",
        "train_df['session_duration'] = (train_df['time10'].fillna(train_df['time1']) - train_df['time1']).dt.total_seconds()\n",
        "\n",
        "X_train_new = hstack([X_train_full, train_df['session_duration'].values.reshape(-1, 1)[:idx_split]])"
      ]
    },
    {
      "cell_type": "code",
      "execution_count": null,
      "metadata": {
        "colab": {
          "base_uri": "https://localhost:8080/"
        },
        "id": "Qmg08H6TnGUj",
        "outputId": "e976ad1b-6b13-4192-9a88-4eb4a5745d10"
      },
      "outputs": [
        {
          "name": "stdout",
          "output_type": "stream",
          "text": [
            "Validation ROC AUC Score with Session Duration: 0.9650\n"
          ]
        },
        {
          "name": "stderr",
          "output_type": "stream",
          "text": [
            "/usr/local/lib/python3.10/dist-packages/sklearn/linear_model/_logistic.py:458: ConvergenceWarning: lbfgs failed to converge (status=1):\n",
            "STOP: TOTAL NO. of ITERATIONS REACHED LIMIT.\n",
            "\n",
            "Increase the number of iterations (max_iter) or scale the data as shown in:\n",
            "    https://scikit-learn.org/stable/modules/preprocessing.html\n",
            "Please also refer to the documentation for alternative solver options:\n",
            "    https://scikit-learn.org/stable/modules/linear_model.html#logistic-regression\n",
            "  n_iter_i = _check_optimize_result(\n"
          ]
        }
      ],
      "source": [
        "X_train, X_val, y_train, y_val = train_test_split(X_train_new, y_train_full, test_size=0.10, random_state=42)\n",
        "\n",
        "# Train the model\n",
        "model = LogisticRegression(C=best_c, max_iter=1000, random_state=42)\n",
        "model.fit(X_train, y_train)\n",
        "\n",
        "# Evaluate the model\n",
        "y_val_pred_proba = model.predict_proba(X_val)[:, 1]\n",
        "roc_auc_duration = roc_auc_score(y_val, y_val_pred_proba)\n",
        "print(f\"Validation ROC AUC Score with Session Duration: {roc_auc_duration:.4f}\")"
      ]
    },
    {
      "cell_type": "markdown",
      "metadata": {
        "id": "XVEm7w2XjITD"
      },
      "source": [
        "2. Average Time per Site: This could be session duration divided by the number of unique sites visited. It might reflect the browsing speed or attentiveness of the user."
      ]
    },
    {
      "cell_type": "code",
      "execution_count": null,
      "metadata": {
        "id": "rnjJmDogjGUi"
      },
      "outputs": [],
      "source": [
        "train_df['avg_time_per_site'] = train_df['session_duration'] / (train_df['n_unique_sites'] + np.finfo(float).eps) #no zeroes in denominator\n",
        "\n",
        "X_train_new = hstack([X_train_full, train_df['avg_time_per_site'].values.reshape(-1, 1)[:idx_split]])"
      ]
    },
    {
      "cell_type": "code",
      "execution_count": null,
      "metadata": {
        "colab": {
          "base_uri": "https://localhost:8080/"
        },
        "id": "7r7ceieKjSIs",
        "outputId": "23cad8d8-84c9-4f39-c684-21cb74200112"
      },
      "outputs": [
        {
          "name": "stdout",
          "output_type": "stream",
          "text": [
            "Validation ROC AUC Score with Avg Time Per Site: 0.9651\n"
          ]
        },
        {
          "name": "stderr",
          "output_type": "stream",
          "text": [
            "/usr/local/lib/python3.10/dist-packages/sklearn/linear_model/_logistic.py:458: ConvergenceWarning: lbfgs failed to converge (status=1):\n",
            "STOP: TOTAL NO. of ITERATIONS REACHED LIMIT.\n",
            "\n",
            "Increase the number of iterations (max_iter) or scale the data as shown in:\n",
            "    https://scikit-learn.org/stable/modules/preprocessing.html\n",
            "Please also refer to the documentation for alternative solver options:\n",
            "    https://scikit-learn.org/stable/modules/linear_model.html#logistic-regression\n",
            "  n_iter_i = _check_optimize_result(\n"
          ]
        }
      ],
      "source": [
        "X_train, X_val, y_train, y_val = train_test_split(X_train_new, y_train_full, test_size=0.10, random_state=42)\n",
        "\n",
        "# Train the model\n",
        "model = LogisticRegression(C=best_c, max_iter=1000, random_state=42)\n",
        "model.fit(X_train, y_train)\n",
        "\n",
        "# Evaluate the model\n",
        "y_val_pred_proba = model.predict_proba(X_val)[:, 1]\n",
        "roc_auc_duration = roc_auc_score(y_val, y_val_pred_proba)\n",
        "print(f\"Validation ROC AUC Score with Avg Time Per Site: {roc_auc_duration:.4f}\")\n"
      ]
    },
    {
      "cell_type": "markdown",
      "metadata": {
        "id": "yecAKKlhkH2M"
      },
      "source": [
        "3. Day of Week and Part of Day: Convert time1 to extract the day of the week and whether the session is in the morning, afternoon, evening, or night."
      ]
    },
    {
      "cell_type": "code",
      "execution_count": null,
      "metadata": {
        "id": "5iD0ezDfjSFF"
      },
      "outputs": [],
      "source": [
        "# Extract day of the week from 'time1'\n",
        "train_df['day_of_week'] = train_df['time1'].dt.dayofweek\n",
        "\n",
        "X_train_new = hstack([X_train_full, train_df['day_of_week'].values.reshape(-1, 1)[:idx_split]])"
      ]
    },
    {
      "cell_type": "code",
      "execution_count": null,
      "metadata": {
        "colab": {
          "base_uri": "https://localhost:8080/"
        },
        "id": "9t6rI6FGjR44",
        "outputId": "31158e8e-bcca-4754-8919-f111a966f24f"
      },
      "outputs": [
        {
          "name": "stdout",
          "output_type": "stream",
          "text": [
            "Validation ROC AUC Score with Day of Week: 0.9687\n"
          ]
        }
      ],
      "source": [
        "X_train, X_val, y_train, y_val = train_test_split(X_train_new, y_train_full, test_size=0.10, random_state=42)\n",
        "\n",
        "# Train the model\n",
        "model = LogisticRegression(C=best_c, max_iter=1000, random_state=42)\n",
        "model.fit(X_train, y_train)\n",
        "\n",
        "# Evaluate the model\n",
        "y_val_pred_proba = model.predict_proba(X_val)[:, 1]\n",
        "roc_auc_duration = roc_auc_score(y_val, y_val_pred_proba)\n",
        "print(f\"Validation ROC AUC Score with Day of Week: {roc_auc_duration:.4f}\")\n"
      ]
    },
    {
      "cell_type": "code",
      "execution_count": null,
      "metadata": {
        "id": "zg7LyHBlUicw"
      },
      "outputs": [],
      "source": [
        "#Part of Day\n",
        "# Define morning as hours <= 11\n",
        "train_df['morning'] = (train_df['time1'].dt.hour <= 11).astype(int)\n",
        "X_train_new = hstack([X_train_full, train_df['morning'].values.reshape(-1, 1)[:idx_split]])"
      ]
    },
    {
      "cell_type": "code",
      "execution_count": null,
      "metadata": {
        "colab": {
          "base_uri": "https://localhost:8080/"
        },
        "id": "qYSP4LVEuq-N",
        "outputId": "ca903653-0e1a-40e6-8d81-9bc33eee4482"
      },
      "outputs": [
        {
          "name": "stdout",
          "output_type": "stream",
          "text": [
            "Validation ROC AUC Score with Part of Day: 0.9798\n"
          ]
        }
      ],
      "source": [
        "X_train, X_val, y_train, y_val = train_test_split(X_train_new, y_train_full, test_size=0.10, random_state=42)\n",
        "\n",
        "# Train the model\n",
        "model = LogisticRegression(C=best_c, max_iter=1000, random_state=42)\n",
        "model.fit(X_train, y_train)\n",
        "\n",
        "# Evaluate the model\n",
        "y_val_pred_proba = model.predict_proba(X_val)[:, 1]\n",
        "roc_auc_duration = roc_auc_score(y_val, y_val_pred_proba)\n",
        "print(f\"Validation ROC AUC Score with Part of Day: {roc_auc_duration:.4f}\")"
      ]
    },
    {
      "cell_type": "markdown",
      "metadata": {
        "id": "EYs62K7dlK6A"
      },
      "source": [
        "4. Site Frequency: How often the most frequented site appears in a session could distinguish between more focused or scattered browsing behavior."
      ]
    },
    {
      "cell_type": "code",
      "execution_count": null,
      "metadata": {
        "id": "IVf3FgLhuq7w"
      },
      "outputs": [],
      "source": [
        "# Flatten the sites and calculate the mode (most frequent site) for each session\n",
        "sites_columns = ['site' + str(i) for i in range(1, 11)]\n",
        "train_df['max_site_frequency'] = train_df[sites_columns].apply(lambda x: x[x > 0].value_counts().max() if x[x > 0].size > 0 else 0, axis=1)\n",
        "\n",
        "X_train_new = hstack([X_train_full, train_df['max_site_frequency'].values.reshape(-1, 1)[:idx_split]])"
      ]
    },
    {
      "cell_type": "code",
      "execution_count": null,
      "metadata": {
        "colab": {
          "base_uri": "https://localhost:8080/"
        },
        "id": "myxYt38Guq5C",
        "outputId": "a9be1ab4-c969-4307-ca84-922ab3f78465"
      },
      "outputs": [
        {
          "name": "stdout",
          "output_type": "stream",
          "text": [
            "Validation ROC AUC Score with Site Frequency: 0.9628\n"
          ]
        }
      ],
      "source": [
        "X_train, X_val, y_train, y_val = train_test_split(X_train_new, y_train_full, test_size=0.10, random_state=42)\n",
        "\n",
        "# Train the model\n",
        "model = LogisticRegression(C=best_c, max_iter=1000, random_state=42)\n",
        "model.fit(X_train, y_train)\n",
        "\n",
        "# Evaluate the model\n",
        "y_val_pred_proba = model.predict_proba(X_val)[:, 1]\n",
        "roc_auc_duration = roc_auc_score(y_val, y_val_pred_proba)\n",
        "print(f\"Validation ROC AUC Score with Site Frequency: {roc_auc_duration:.4f}\")"
      ]
    },
    {
      "cell_type": "markdown",
      "metadata": {
        "id": "zCpOnk3bm59K"
      },
      "source": [
        "5. Logarithmic Transformation: Apply a logarithmic transformation to continuous features like session duration to reduce skewness and help linear models."
      ]
    },
    {
      "cell_type": "code",
      "execution_count": null,
      "metadata": {
        "id": "uHfmX1Mwuq2f"
      },
      "outputs": [],
      "source": [
        "train_df['log_session_duration'] = np.log1p(train_df['session_duration'])\n",
        "X_train_new = hstack([X_train_full, train_df['log_session_duration'].values.reshape(-1, 1)[:idx_split]])"
      ]
    },
    {
      "cell_type": "code",
      "execution_count": null,
      "metadata": {
        "colab": {
          "background_save": true
        },
        "id": "-d6ZwkTFuq0e",
        "outputId": "640af7e9-c460-4101-95a7-661db0158026"
      },
      "outputs": [
        {
          "name": "stdout",
          "output_type": "stream",
          "text": [
            "Validation ROC AUC Score with log Session Duration: 0.9652\n"
          ]
        }
      ],
      "source": [
        "X_train, X_val, y_train, y_val = train_test_split(X_train_new, y_train_full, test_size=0.10, random_state=42)\n",
        "\n",
        "# Train the model\n",
        "model = LogisticRegression(C=best_c, max_iter=1000, random_state=42)\n",
        "model.fit(X_train, y_train)\n",
        "\n",
        "# Evaluate the model\n",
        "y_val_pred_proba = model.predict_proba(X_val)[:, 1]\n",
        "roc_auc_duration = roc_auc_score(y_val, y_val_pred_proba)\n",
        "print(f\"Validation ROC AUC Score with log Session Duration: {roc_auc_duration:.4f}\")"
      ]
    },
    {
      "cell_type": "markdown",
      "metadata": {
        "id": "JvDkMsCBm_9j"
      },
      "source": [
        "6. Interaction Features: Create new features based on interactions between existing features that might make sense, like multiplying session duration by the number of unique sites to combine the two aspects."
      ]
    },
    {
      "cell_type": "code",
      "execution_count": null,
      "metadata": {
        "colab": {
          "background_save": true
        },
        "id": "oWVN0zGtuqxl"
      },
      "outputs": [],
      "source": [
        "train_df['duration_times_unique'] = train_df['session_duration'] * train_df['n_unique_sites']\n",
        "X_train_new = hstack([X_train_full, train_df['duration_times_unique'].values.reshape(-1, 1)[:idx_split]])"
      ]
    },
    {
      "cell_type": "code",
      "execution_count": 86,
      "metadata": {
        "id": "q7k-axfQuqu1",
        "colab": {
          "base_uri": "https://localhost:8080/"
        },
        "outputId": "0f79b919-38d3-43f4-8c2a-250f5fc03deb"
      },
      "outputs": [
        {
          "metadata": {
            "tags": null
          },
          "name": "stdout",
          "output_type": "stream",
          "text": [
            "Validation ROC AUC Score with Duration Times Unique: 0.9565\n"
          ]
        },
        {
          "metadata": {
            "tags": null
          },
          "name": "stderr",
          "output_type": "stream",
          "text": [
            "/usr/local/lib/python3.10/dist-packages/sklearn/linear_model/_logistic.py:458: ConvergenceWarning: lbfgs failed to converge (status=1):\n",
            "STOP: TOTAL NO. of ITERATIONS REACHED LIMIT.\n",
            "\n",
            "Increase the number of iterations (max_iter) or scale the data as shown in:\n",
            "    https://scikit-learn.org/stable/modules/preprocessing.html\n",
            "Please also refer to the documentation for alternative solver options:\n",
            "    https://scikit-learn.org/stable/modules/linear_model.html#logistic-regression\n",
            "  n_iter_i = _check_optimize_result(\n"
          ]
        }
      ],
      "source": [
        "X_train, X_val, y_train, y_val = train_test_split(X_train_new, y_train_full, test_size=0.10, random_state=42)\n",
        "\n",
        "# Train the model\n",
        "model = LogisticRegression(C=best_c, max_iter=1000, random_state=42)\n",
        "model.fit(X_train, y_train)\n",
        "\n",
        "# Evaluate the model\n",
        "y_val_pred_proba = model.predict_proba(X_val)[:, 1]\n",
        "roc_auc_duration = roc_auc_score(y_val, y_val_pred_proba)\n",
        "print(f\"Validation ROC AUC Score with Duration Times Unique: {roc_auc_duration:.4f}\")"
      ]
    },
    {
      "cell_type": "markdown",
      "metadata": {
        "id": "ok3EwLaOpSDq"
      },
      "source": [
        "Based on the above ROC AUC Score, lets create some interesting feature. Although 'Part of Day' is a categorical feature, for the sake of demonstration, lets convert it to a numerical representation. Creating a feature for each combination of 'Part of Day' and 'Day of Week' could be insightful but requires binary encoding first."
      ]
    },
    {
      "cell_type": "code",
      "execution_count": 96,
      "metadata": {
        "id": "W0JPm1oRuqsd"
      },
      "outputs": [],
      "source": [
        "train_df['day_duration_interaction'] = train_df['day_of_week'] * train_df['session_duration']\n",
        "X_train_new = hstack([X_train_full, train_df['day_duration_interaction'].values.reshape(-1, 1)[:idx_split]])"
      ]
    },
    {
      "cell_type": "code",
      "execution_count": 97,
      "metadata": {
        "id": "8ZzRbADluqqL",
        "colab": {
          "base_uri": "https://localhost:8080/"
        },
        "outputId": "78533cdd-4aea-4f26-c442-8ee063f81973"
      },
      "outputs": [
        {
          "output_type": "stream",
          "name": "stdout",
          "text": [
            "Validation ROC AUC Score with Duration Times Unique: 0.9645\n"
          ]
        },
        {
          "output_type": "stream",
          "name": "stderr",
          "text": [
            "/usr/local/lib/python3.10/dist-packages/sklearn/linear_model/_logistic.py:458: ConvergenceWarning: lbfgs failed to converge (status=1):\n",
            "STOP: TOTAL NO. of ITERATIONS REACHED LIMIT.\n",
            "\n",
            "Increase the number of iterations (max_iter) or scale the data as shown in:\n",
            "    https://scikit-learn.org/stable/modules/preprocessing.html\n",
            "Please also refer to the documentation for alternative solver options:\n",
            "    https://scikit-learn.org/stable/modules/linear_model.html#logistic-regression\n",
            "  n_iter_i = _check_optimize_result(\n"
          ]
        }
      ],
      "source": [
        "X_train, X_val, y_train, y_val = train_test_split(X_train_new, y_train_full, test_size=0.10, random_state=42)\n",
        "\n",
        "# Train the model\n",
        "model = LogisticRegression(C=best_c, max_iter=1000, random_state=42)\n",
        "model.fit(X_train, y_train)\n",
        "\n",
        "# Evaluate the model\n",
        "y_val_pred_proba = model.predict_proba(X_val)[:, 1]\n",
        "roc_auc_duration = roc_auc_score(y_val, y_val_pred_proba)\n",
        "print(f\"Validation ROC AUC Score with Day_of_week Times duration: {roc_auc_duration:.4f}\")"
      ]
    },
    {
      "cell_type": "code",
      "source": [
        "import matplotlib.pyplot as plt\n",
        "import seaborn as sns\n",
        "\n",
        "# Assuming 'day_of_week' and 'session_duration' have been defined\n",
        "train_df['day_duration_interaction'] = train_df['day_of_week'] * train_df['session_duration']\n",
        "average_day_duration_interaction = train_df.groupby('day_of_week')['day_duration_interaction'].mean()\n",
        "average_day_duration_interaction = average_day_duration_interaction.reset_index()\n",
        "\n",
        "days = {0: 'Mon', 1: 'Tues', 2: 'Wed', 3: 'Thur', 4: 'Fri', 5: 'Sat', 6: 'Sun'}\n",
        "average_day_duration_interaction['day_of_week'] = average_day_duration_interaction['day_of_week'].map(days)\n",
        "\n",
        "# plot\n",
        "plt.figure(figsize=(10, 6))\n",
        "sns.barplot(x='day_of_week', y='day_duration_interaction', data=average_day_duration_interaction, palette='plasma')\n",
        "plt.title('Average Session Duration Interaction by Day of the Week')\n",
        "plt.xlabel('Day of the Week')\n",
        "plt.ylabel('Average Duration Interaction')\n",
        "plt.show()"
      ],
      "metadata": {
        "colab": {
          "base_uri": "https://localhost:8080/",
          "height": 677
        },
        "id": "sSN2Y9WaJ-q0",
        "outputId": "e5b0b1b3-0252-46fc-e14c-0e838f739ef3"
      },
      "execution_count": 98,
      "outputs": [
        {
          "output_type": "stream",
          "name": "stderr",
          "text": [
            "<ipython-input-98-0673c8128190>:14: FutureWarning: \n",
            "\n",
            "Passing `palette` without assigning `hue` is deprecated and will be removed in v0.14.0. Assign the `x` variable to `hue` and set `legend=False` for the same effect.\n",
            "\n",
            "  sns.barplot(x='day_of_week', y='day_duration_interaction', data=average_day_duration_interaction, palette='plasma')\n"
          ]
        },
        {
          "output_type": "display_data",
          "data": {
            "text/plain": [
              "<Figure size 1000x600 with 1 Axes>"
            ],
            "image/png": "[encoded data removed]"
          },
          "metadata": {
            "image/png": {
              "width": 859,
              "height": 553
            }
          }
        }
      ]
    },
    {
      "cell_type": "markdown",
      "metadata": {
        "id": "CS9FQ4BWybdV"
      },
      "source": [
        "Sunday the average session duration is highest on Sunday and surprisingly 0 on monday this makes this feature worth keeping in model"
      ]
    },
    {
      "cell_type": "markdown",
      "metadata": {
        "id": "NQJ_kPrUrCnx"
      },
      "source": [
        " To see if there's a pattern in the number of unique sites visited depending on the day of the week lets multiply 'Day of Week' with 'n_unique_sites'"
      ]
    },
    {
      "cell_type": "code",
      "source": [
        "train_df['day_nunique_interaction'] = train_df['day_of_week'] * train_df['n_unique_sites']"
      ],
      "metadata": {
        "id": "eqyYt_-0KKIP"
      },
      "execution_count": 101,
      "outputs": []
    },
    {
      "cell_type": "code",
      "source": [
        "from scipy.sparse import hstack\n",
        "# Convert the new feature into a column vector\n",
        "day_nunique_interaction_feature = train_df['day_nunique_interaction'].values.reshape(-1, 1)\n",
        "X_train_new = hstack([X_train_full, day_nunique_interaction_feature[:idx_split]])"
      ],
      "metadata": {
        "id": "xlH2D-LaKNTE"
      },
      "execution_count": 102,
      "outputs": []
    },
    {
      "cell_type": "code",
      "source": [
        "from sklearn.model_selection import train_test_split\n",
        "from sklearn.linear_model import LogisticRegression\n",
        "from sklearn.metrics import roc_auc_score\n",
        "X_train, X_val, y_train, y_val = train_test_split(X_train_new, y_train_full, test_size=0.10, random_state=42)\n",
        "model = LogisticRegression(C=best_c, max_iter=1000, random_state=42)\n",
        "model.fit(X_train, y_train)\n",
        "\n",
        "# validation set and calculate the ROC AUC score\n",
        "y_val_pred_proba = model.predict_proba(X_val)[:, 1]\n",
        "roc_auc = roc_auc_score(y_val, y_val_pred_proba)\n",
        "print(f\"Validation ROC AUC Score with 'Day of Week' * 'n_unique_sites': {roc_auc:.4f}\")"
      ],
      "metadata": {
        "colab": {
          "base_uri": "https://localhost:8080/"
        },
        "id": "2gCV1UCjKQEJ",
        "outputId": "c85e830e-0e64-402b-898e-8ea9c20700be"
      },
      "execution_count": 103,
      "outputs": [
        {
          "output_type": "stream",
          "name": "stdout",
          "text": [
            "Validation ROC AUC Score with 'Day of Week' * 'n_unique_sites': 0.9683\n"
          ]
        }
      ]
    },
    {
      "cell_type": "code",
      "execution_count": 104,
      "metadata": {
        "id": "EkKX_yGouqfG",
        "colab": {
          "base_uri": "https://localhost:8080/",
          "height": 735
        },
        "outputId": "705eb04f-08e4-456d-97f0-e2ada6fdf79e"
      },
      "outputs": [
        {
          "output_type": "stream",
          "name": "stderr",
          "text": [
            "<ipython-input-104-b1efbff7d8dd>:11: FutureWarning: \n",
            "\n",
            "Passing `palette` without assigning `hue` is deprecated and will be removed in v0.14.0. Assign the `x` variable to `hue` and set `legend=False` for the same effect.\n",
            "\n",
            "  sns.barplot(x='day_of_week', y='day_nunique_interaction', data=plot_data, palette='coolwarm')\n"
          ]
        },
        {
          "output_type": "display_data",
          "data": {
            "text/plain": [
              "<Figure size 1000x600 with 1 Axes>"
            ],
            "image/png": "[encoded data removed]"
          },
          "metadata": {
            "image/png": {
              "width": 849,
              "height": 611
            }
          }
        }
      ],
      "source": [
        "import matplotlib.pyplot as plt\n",
        "import seaborn as sns\n",
        "\n",
        "# Groupby 'day_of_week' and the mean of the 'day_nunique_interaction' for each day\n",
        "mean_interactions = train_df.groupby('day_of_week')['day_nunique_interaction'].mean()\n",
        "plot_data = mean_interactions.reset_index()\n",
        "plot_data['day_of_week'] = plot_data['day_of_week'].map({0: 'Monday', 1: 'Tuesday', 2: 'Wednesday', 3: 'Thursday', 4: 'Friday', 5: 'Saturday', 6: 'Sunday'})\n",
        "\n",
        "# Plotting\n",
        "plt.figure(figsize=(10, 6))\n",
        "sns.barplot(x='day_of_week', y='day_nunique_interaction', data=plot_data, palette='coolwarm')\n",
        "plt.title('Average \"Day of Week * n_unique_sites\" Interaction by Day of the Week')\n",
        "plt.xlabel('Day of the Week')\n",
        "plt.ylabel('Average Interaction Value')\n",
        "plt.xticks(rotation=45)\n",
        "plt.show()"
      ]
    },
    {
      "cell_type": "markdown",
      "source": [
        "Lets compare the ROC AUC scores before and after adding new features."
      ],
      "metadata": {
        "id": "tojS6xj5K7Py"
      }
    },
    {
      "cell_type": "code",
      "source": [
        "highest_roc_auc_scores = {\n",
        "    'Part of Day': 0.9798,\n",
        "    'Log Session Duration': 0.9652,\n",
        "    'Duration Times Unique': 0.9565,\n",
        "    'Day of Week * Session Duration': 0.9645,\n",
        "    'Day of Week * n_unique_sites': 0.9683\n",
        "}\n",
        "\n",
        "plt.figure(figsize=(10, 6))\n",
        "sns.barplot(x=list(roc_auc_scores.keys()), y=list(highest_roc_auc_scores.values()), palette='viridis')\n",
        "plt.title('Comparison of High performing Model ROC AUC Scores')\n",
        "plt.ylabel('ROC AUC Score')\n",
        "plt.xlabel('Model Configuration')\n",
        "plt.xticks(rotation=45)\n",
        "plt.show()"
      ],
      "metadata": {
        "colab": {
          "base_uri": "https://localhost:8080/",
          "height": 844
        },
        "id": "cwUhFlDvKwtF",
        "outputId": "8d8f9cc9-3267-4ccc-9556-8abce9a88b88"
      },
      "execution_count": 115,
      "outputs": [
        {
          "output_type": "stream",
          "name": "stderr",
          "text": [
            "<ipython-input-115-3ac267020f82>:10: FutureWarning: \n",
            "\n",
            "Passing `palette` without assigning `hue` is deprecated and will be removed in v0.14.0. Assign the `x` variable to `hue` and set `legend=False` for the same effect.\n",
            "\n",
            "  sns.barplot(x=list(roc_auc_scores.keys()), y=list(highest_roc_auc_scores.values()), palette='viridis')\n"
          ]
        },
        {
          "output_type": "display_data",
          "data": {
            "text/plain": [
              "<Figure size 1000x600 with 1 Axes>"
            ],
            "image/png": "[encoded data removed]"
          },
          "metadata": {
            "image/png": {
              "width": 862,
              "height": 720
            }
          }
        }
      ]
    },
    {
      "cell_type": "markdown",
      "metadata": {
        "id": "2j_D_ql5uJZg"
      },
      "source": [
        "In this we can see that weekend has the highest number of unique site visit sessions. Suggesting that this feature with be useful in the model."
      ]
    },
    {
      "cell_type": "markdown",
      "metadata": {
        "id": "YUU4TuF6EMif"
      },
      "source": [
        "The model has been significantly improving by adding new features but I believe that standardizing the interacting features can improve the model to give us the best indicators of Alice vs Non-Alice patterns to distinguish and segment them. I'll add more features later and present on showcase day. Thank you"
      ]
    }
  ],
  "metadata": {
    "colab": {
      "provenance": []
    },
    "kernelspec": {
      "display_name": "Python 3",
      "name": "python3"
    },
    "language_info": {
      "name": "python"
    }
  },
  "nbformat": 4,
  "nbformat_minor": 0
}